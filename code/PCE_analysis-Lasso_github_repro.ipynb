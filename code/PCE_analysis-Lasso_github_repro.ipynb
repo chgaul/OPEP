{
 "cells": [
  {
   "cell_type": "code",
   "execution_count": null,
   "metadata": {},
   "outputs": [],
   "source": [
    "from IPython.display import display, HTML\n",
    "display(HTML(\"<style>.container { width:100% !important; }</style>\"))"
   ]
  },
  {
   "cell_type": "code",
   "execution_count": null,
   "metadata": {},
   "outputs": [],
   "source": [
    "import os\n",
    "import os.path\n",
    "base_dir = '../data_repro'\n",
    "tgt_dir = '../figures_repro'\n",
    "os.makedirs(tgt_dir, exist_ok=True)"
   ]
  },
  {
   "cell_type": "markdown",
   "metadata": {},
   "source": [
    "# Determination of OPEP Models"
   ]
  },
  {
   "cell_type": "code",
   "execution_count": null,
   "metadata": {},
   "outputs": [],
   "source": [
    "from __future__ import print_function\n",
    "\n",
    "%config InlineBackend.figure_format = 'retina'\n",
    "\n",
    "import numpy as np\n",
    "import pandas as pd\n",
    "import matplotlib.pyplot as plt\n",
    "import pylab\n",
    "import seaborn as sns\n",
    "import math\n",
    "import statistics\n",
    "from scipy.stats import sem\n",
    "from scipy import stats\n",
    "\n",
    "from pathlib import Path\n",
    "\n",
    "import statsmodels.api as sm\n",
    "\n",
    "import sklearn\n",
    "from sklearn.metrics import mean_absolute_error\n",
    "from sklearn.metrics import mean_squared_error\n",
    "from sklearn.metrics import make_scorer\n",
    "from sklearn.utils import check_consistent_length\n",
    "from sklearn.utils import check_array\n",
    "from sklearn.linear_model import Lasso\n",
    "from sklearn.model_selection import cross_validate\n",
    "\n",
    "from sklearn.model_selection import cross_val_score\n",
    "from sklearn.base import BaseEstimator, RegressorMixin\n",
    "\n",
    "plt.style.use(\"seaborn-ticks\") \n",
    "sns.set_context(context = \"paper\", font_scale = 2)"
   ]
  },
  {
   "cell_type": "markdown",
   "metadata": {},
   "source": [
    "Reading in the CSVs with experimental acceptor-donor pairs and DFT/sTD-DFT calculated properties with the original dataset"
   ]
  },
  {
   "cell_type": "code",
   "execution_count": null,
   "metadata": {},
   "outputs": [],
   "source": [
    "df = pd.read_csv(os.path.join(base_dir, 'DFT_for_analysis.csv'))\n",
    "print(\"Number of acceptor-donor pairs is \" + str(len(df.index)))\n",
    "\n",
    "df_highPCE = pd.read_csv(os.path.join(base_dir, 'DFT_for_analysis_highPCE.csv'))\n",
    "print(\"Number of acceptor-donor pairs with PCE greater than 9% is \" + str(len(df_highPCE.index)))"
   ]
  },
  {
   "cell_type": "markdown",
   "metadata": {},
   "source": [
    "Setting each descriptor to floats and converting into a DataFrame"
   ]
  },
  {
   "cell_type": "code",
   "execution_count": null,
   "metadata": {},
   "outputs": [],
   "source": [
    "DFTfields = {k: float for k in [\n",
    "    'AccHOMO', 'AccCalcLUMO', 'AccFundBg', 'AccOptBg', 'AccEnergyTransitioneV', 'AccTriplet', \n",
    "    'AccDeltaHOMO', 'AccDeltaLUMO', 'DeltaDipMom', 'GSDipMom', 'AccEnergyTransitionWavenumber', 'AccOscStr', \n",
    "    'AccSumOscStr', 'AccElectroIndex', 'AccNucleoIndex', 'AccChemHard', \n",
    "    'AccElectrodonating', 'AccElectroaccepting', 'PiSystemSize', 'Planarity', 'Polarizability',\n",
    "    'DonHOMO', 'DonCalcLUMO', 'DonFundBg', 'DonEnergyTransitioneV', 'DonDeltaHOMO', 'DonDeltaLUMO',\n",
    "    'DonEnergyTransitionWavenumber', 'DonOscStr', 'DonSumOscStr', 'DonElectroIndex', 'DonNucleoIndex', 'DonChemHard',\n",
    "    'DonElectrodonating', 'DonElectroaccepting',\n",
    "    'AbsFOM',    'LUMOOffset', 'HOMOOffset', 'DHomoALumoOffset', \n",
    "    'acc_first_oscs', 'acc_highest_oscs_under_ten', 'acc_lowest_transition_eV',\n",
    "    'acc_lowest_transition_wavenumber', 'don_first_oscs', 'don_highest_oscs_under_ten',\n",
    "    'don_lowest_transition_eV', 'don_lowest_transition_wavenumber',\n",
    "    'sTDDFTLUMO', 'sTDDFTHOMO', 'sTDDFTdeltaLUMO', 'sTDDFTdeltaHOMO', 'sTDDFToptbg', \n",
    "    'sTDDFToscs', 'sTDDFTfundbg', 'sTDDFTsinglepointenergy', 'sTDDFTdipolemoment', 'sTDDFTsummedoscs', \n",
    "    'sTDDFTabsFOM', 'sTDDFTAccNucleoIndex', 'sTDDFTaccElectrophilicity', 'sTDDFTAccChemHard', \n",
    "    'sTDDFTAccElectrodonating', 'sTDDFTAccElectroaccepting',\n",
    "    'donsTDDFTLUMO', 'donsTDDFTHOMO', 'sTDDFTDonNucleoIndex', 'donsTDDFTdeltaLUMO', 'donsTDDFTdeltaHOMO', \n",
    "    'donsTDDFToptbg', 'donsTDDFToscs', 'donsTDDFTfundbg', 'donsTDDFTsinglepointenergy', 'donsTDDFTdipolemoment',\n",
    "    'donsTDDFTsummedoscs', 'donsTDDFTabsFOM', 'sTDDFTDonChemHard', \n",
    "    'sTDDFTDonElectrodonating', 'sTDDFTDonElectroaccepting', 'sTDDFTdonElectrophilicity',\n",
    "    'sTDDFTDHomoALumoOffset', 'sTDDFTHOMOoffset', 'sTDDFTLUMOoffset',\n",
    "    'sTDDFTdonlowestengtranseV', 'sTDDFTdonlowestengtranswavenumber', 'sTDDFTdonfirstengtranseV',\n",
    "    'sTDDFTdonfirstengtranswavenumber', 'sTDDFTdonfirstoscs', 'sTDDFTacclowestengtranseV',\n",
    "    'sTDDFTacclowestengtranswavenumber', 'sTDDFTaccfirstengtranseV', 'sTDDFTaccfirstengtranswavenumber',\n",
    "    'sTDDFTaccfirstoscs', 'sTDDFTacchighestoscsunderten', 'sTDDFTdonhighestoscsunderten',\n",
    "    'ScharberJsclowestoptbg', 'ScharberVoc', 'ScharberJscDon', 'ScharberJscAcc', 'ScharberTotalJsc',\n",
    "    'ScharberFF', 'ScharberPCEtotal', 'ScharberPCEacc', 'ScharberPCEdon', 'ScharberPCElowestoptbg', \n",
    "    'sTDDFTScharberVoc', 'sTDDFTScharberJscDon', 'sTDDFTScharberJscAcc', 'sTDDFTScharberJscTot', \n",
    "    'sTDDFTScharberPCETot', 'sTDDFTScharberPCEAcc', 'sTDDFTScharberPCEDon',\n",
    "    'ImamuraVoc', 'ImamuraJscDon', 'ImamuraJscAcc', 'ImamuraTotalJsc', 'ImamuraFF', 'ImamuraPCEtotal', \n",
    "    'ImamuraPCEacc', 'ImamuraPCEdon', \n",
    "    'AlharbiVocDon', 'AlharbiVocAcc', 'AlharbiFFDon', 'AlharbiFFAcc', 'AlharbiPCEAcc', 'AlharbiPCEDon',\n",
    "    'ExperimentalFF', 'ExperimentalVoc', 'ExperimentalJsc', 'ExperimentalPCE']\n",
    "}\n",
    "df = df.astype(DFTfields)\n",
    "df_highPCE = df_highPCE.astype(DFTfields)"
   ]
  },
  {
   "cell_type": "code",
   "execution_count": null,
   "metadata": {},
   "outputs": [],
   "source": [
    "\n",
    "## from sci-kit-learn https://github.com/scikit-learn/scikit-learn/blob/4773f3e39/sklearn/metrics/_regression.py#L197\n",
    "def _check_reg_targets(y_true, y_pred, multioutput, dtype=\"numeric\"):\n",
    "    check_consistent_length(y_true, y_pred)\n",
    "    y_true = check_array(y_true, ensure_2d=False, dtype=dtype)\n",
    "    y_pred = check_array(y_pred, ensure_2d=False, dtype=dtype)\n",
    "\n",
    "    if y_true.ndim == 1:\n",
    "        y_true = y_true.reshape((-1, 1))\n",
    "\n",
    "    if y_pred.ndim == 1:\n",
    "        y_pred = y_pred.reshape((-1, 1))\n",
    "\n",
    "    if y_true.shape[1] != y_pred.shape[1]:\n",
    "        raise ValueError(\"y_true and y_pred have different number of output \"\n",
    "                         \"({0}!={1})\".format(y_true.shape[1], y_pred.shape[1]))\n",
    "\n",
    "    n_outputs = y_true.shape[1]\n",
    "    allowed_multioutput_str = ('raw_values', 'uniform_average',\n",
    "                               'variance_weighted')\n",
    "    if isinstance(multioutput, str):\n",
    "        if multioutput not in allowed_multioutput_str:\n",
    "            raise ValueError(\"Allowed 'multioutput' string values are {}. \"\n",
    "                             \"You provided multioutput={!r}\".format(\n",
    "                                 allowed_multioutput_str,\n",
    "                                 multioutput))\n",
    "    elif multioutput is not None:\n",
    "        multioutput = check_array(multioutput, ensure_2d=False)\n",
    "        if n_outputs == 1:\n",
    "            raise ValueError(\"Custom weights are useful only in \"\n",
    "                             \"multi-output cases.\")\n",
    "        elif n_outputs != len(multioutput):\n",
    "            raise ValueError((\"There must be equally many custom weights \"\n",
    "                              \"(%d) as outputs (%d).\") %\n",
    "                             (len(multioutput), n_outputs))\n",
    "    y_type = 'continuous' if n_outputs == 1 else 'continuous-multioutput'\n",
    "\n",
    "    return y_type, y_true, y_pred, multioutput\n",
    "\n",
    "def mean_absolute_percentage_error(y_true, y_pred,\n",
    "                                   sample_weight=None,\n",
    "                                   multioutput='uniform_average'):\n",
    "\n",
    "    y_type, y_true, y_pred, multioutput = _check_reg_targets(\n",
    "        y_true, y_pred, multioutput)\n",
    "    check_consistent_length(y_true, y_pred, sample_weight)\n",
    "    epsilon = np.finfo(np.float64).eps\n",
    "    mape = np.abs(y_pred - y_true) / np.maximum(np.abs(y_true), epsilon)\n",
    "    output_errors = np.average(mape,\n",
    "                               weights=sample_weight, axis=0)\n",
    "    if isinstance(multioutput, str):\n",
    "        if multioutput == 'raw_values':\n",
    "            return output_errors\n",
    "        elif multioutput == 'uniform_average':\n",
    "            # pass None as weights to np.average: uniform mean\n",
    "            multioutput = None\n",
    "\n",
    "    return np.average(output_errors, weights=multioutput)\n",
    "\n",
    "def evaluate_model(list_of_desc, target, dataframe, cf = False, output=True):\n",
    "    '''\n",
    "    Evaluates the errors of the proposed model\n",
    "    \n",
    "    Parameters\n",
    "    ---------\n",
    "    list_of_desc = name of the list that contains the descriptors\n",
    "    target = target experimental value in the dataframe. Ex: df_highPCE['ExperimentalJsc']\n",
    "    dataframe = name of dataframe to use descriptors from\n",
    "    cf = should it show the coefficients\n",
    "    \n",
    "    Returns\n",
    "    -------\n",
    "    R2, MAE, RMSE, MAPE, y-intercept of equation, coefficients of each descriptor, average predictions\n",
    "    '''\n",
    "    \n",
    "    new_df = dataframe[list_of_desc].copy()\n",
    "    \n",
    "    max_mae = 10.0\n",
    "    best_alpha = 0\n",
    "    for a in range(1,200):\n",
    "        lm =Lasso(alpha=float(a)/100.0)\n",
    "        lm.fit(new_df, target)\n",
    "        mae = mean_absolute_error(target, lm.predict(new_df))\n",
    "        if mae < max_mae:\n",
    "            best_alpha = float(a)/100.0\n",
    "            max_mae = mae\n",
    "\n",
    "    r2_score = []\n",
    "    intercepts = []\n",
    "    coefs = []\n",
    "    predicted_PCE = []\n",
    "    MAE_cv = []\n",
    "    RMSE_cv = []\n",
    "\n",
    "    PCE_cv = cross_validate(Lasso(alpha = best_alpha, max_iter = 100000), new_df, target, cv=5, scoring = ['neg_mean_squared_error'] , return_estimator = True)\n",
    "    for x in PCE_cv['estimator']:\n",
    "        coef = x.coef_\n",
    "        coefs.append(coef)\n",
    "\n",
    "        pred = x.predict(new_df)\n",
    "        predicted_PCE.append(pred)\n",
    "\n",
    "        r2_score.append(x.score(new_df, target))\n",
    "        intercepts.append(x.intercept_)\n",
    "\n",
    "        \n",
    "    avg_coef = sum(coefs)/5.0    \n",
    "    zipped_coefs = zip(list_of_desc, avg_coef)\n",
    "    \n",
    "    if output == True:\n",
    "        if cf == True:\n",
    "            print('The average intercept from 5 folds is ', statistics.mean(intercepts))\n",
    "            print('The average coefficients of the 5 folds is ', list(zipped_coefs))\n",
    "    \n",
    "    coefficients = list(zipped_coefs)\n",
    "    \n",
    "    avg_pred = sum(predicted_PCE)/ 5.0    \n",
    "    all_mae = []\n",
    "    all_RMSE = []\n",
    "    all_MAPE = []\n",
    "    for x in range(len(predicted_PCE)):\n",
    "        mae = mean_absolute_error(target, predicted_PCE[x])\n",
    "        all_mae.append(mae)\n",
    "        mse = mean_squared_error(target, predicted_PCE[x])\n",
    "        rmse = math.sqrt(mse)\n",
    "        all_RMSE.append(rmse)\n",
    "        mape = mean_absolute_percentage_error(target, predicted_PCE[x]) * 100\n",
    "        all_MAPE.append(mape)\n",
    "    SEM_mae = round(sem(all_mae), 3)\n",
    "    SEM_RMSE = round(sem(all_RMSE), 5)\n",
    "    SEM_MAPE = round(sem(all_MAPE), 5)\n",
    "    \n",
    "    \n",
    "    mean_MAE = round(statistics.mean(all_mae), 3)\n",
    "    mean_RMSE = round(statistics.mean(all_RMSE), 4)\n",
    "    mean_MAPE = round(statistics.mean(all_MAPE), 4)\n",
    "    SEM_r2 = round(sem(r2_score), 3)\n",
    "    \n",
    "    if output == True:\n",
    "        print('The 5-fold cross-validated RMSE of this model is, ', mean_RMSE, ' +/- ', SEM_RMSE)\n",
    "        print('The 5-fold cross-validated MAE of the average ', mean_MAE, ' +/- ', SEM_mae)\n",
    "        print('The average r^2 value is ', statistics.mean(r2_score), ' +/- ', SEM_r2 )\n",
    "    mean_r2 = round(statistics.mean(r2_score), 3)\n",
    "    \n",
    "    intercept = statistics.mean(intercepts)\n",
    "    \n",
    "    return mean_r2, SEM_r2, mean_MAE, SEM_mae, mean_RMSE, SEM_RMSE, mean_MAPE, SEM_MAPE, intercept, coefficients, avg_pred"
   ]
  },
  {
   "cell_type": "code",
   "execution_count": null,
   "metadata": {},
   "outputs": [],
   "source": [
    "# Will tune the descriptors down to 6 until to achieve an optimized RMSE\n",
    "# returns a list of the top 6 descriptors\n",
    "def optimize_eq(method, df, target):\n",
    "    \n",
    "    if method == \"DFT\":\n",
    "        # all descriptors examined for DFT/TD-DFT\n",
    "        all_descriptors = [\n",
    "            'AccHOMO','AccCalcLUMO','AccFundBg','AccOptBg','AccEnergyTransitioneV','AccTriplet', 'AccDeltaHOMO','AccDeltaLUMO','DeltaDipMom','GSDipMom',\n",
    "            'AccEnergyTransitionWavenumber', 'AccOscStr', 'AccSumOscStr','AccElectroIndex','AccNucleoIndex', 'AccChemHard', 'AccElectrodonating',\n",
    "            'AccElectroaccepting','PiSystemSize', 'Planarity', 'Polarizability','DonHOMO', 'DonCalcLUMO', 'DonFundBg', 'DonEnergyTransitioneV',\n",
    "            'DonDeltaHOMO', 'DonDeltaLUMO','DonEnergyTransitionWavenumber','DonOscStr', 'DonSumOscStr','DonElectroIndex', 'DonNucleoIndex','DonChemHard',\n",
    "            'DonElectrodonating', 'DonElectroaccepting','AbsFOM','LUMOOffset', 'HOMOOffset', 'DHomoALumoOffset','acc_first_oscs','acc_highest_oscs_under_ten',\n",
    "            'acc_lowest_transition_eV','acc_lowest_transition_wavenumber','don_first_oscs','don_highest_oscs_under_ten','don_lowest_transition_eV',\n",
    "            'don_lowest_transition_wavenumber']\n",
    "    elif method == 'sTD-DFT':\n",
    "        # all descriptors examined for sTD-DFT\n",
    "        all_descriptors = [\n",
    "            'sTDDFTLUMO','sTDDFTHOMO','sTDDFTdeltaLUMO','sTDDFTdeltaHOMO','sTDDFToptbg','sTDDFToscs','sTDDFTfundbg','sTDDFTsinglepointenergy',\n",
    "            'sTDDFTdipolemoment','donsTDDFTLUMO','donsTDDFTHOMO','donsTDDFTdeltaLUMO','donsTDDFTdeltaHOMO','donsTDDFToptbg','donsTDDFToscs','donsTDDFTfundbg',\n",
    "            'donsTDDFTsinglepointenergy','donsTDDFTdipolemoment','sTDDFTDHomoALumoOffset','sTDDFTaccElectrophilicity','sTDDFTdonElectrophilicity',\n",
    "            'sTDDFTHOMOoffset','sTDDFTLUMOoffset','Planarity','PiSystemSize','sTDDFTsummedoscs','sTDDFTabsFOM','donsTDDFTsummedoscs','donsTDDFTabsFOM',\n",
    "            'sTDDFTAccChemHard','sTDDFTAccElectrodonating','sTDDFTAccElectroaccepting','sTDDFTDonChemHard','sTDDFTDonElectrodonating','sTDDFTDonElectroaccepting',\n",
    "            'sTDDFTdonlowestengtranseV', 'sTDDFTdonlowestengtranswavenumber', 'sTDDFTdonfirstengtranseV', 'sTDDFTdonfirstengtranswavenumber', 'sTDDFTdonfirstoscs',\n",
    "            'sTDDFTacclowestengtranseV', 'sTDDFTacclowestengtranswavenumber', 'sTDDFTaccfirstengtranseV', 'sTDDFTaccfirstengtranswavenumber', 'sTDDFTaccfirstoscs',\n",
    "            'sTDDFTacchighestoscsunderten', 'sTDDFTdonhighestoscsunderten'] \n",
    "    else:\n",
    "        return 'Not a valid method. Options are DFT or sTD-DFT'\n",
    "    \n",
    "    # LASSO to remove any with coefficients of zero\n",
    "    descriptors_to_remove = []\n",
    "    results = evaluate_model(all_descriptors, df[target], df,output=False)\n",
    "    for x in range(len(results[9])):\n",
    "        if results[9][x][1] == 0.0:\n",
    "            descriptors_to_remove.append(results[9][x][0])\n",
    "            \n",
    "    for x in descriptors_to_remove:\n",
    "        all_descriptors.remove(x)\n",
    "    print(all_descriptors)\n",
    "    \n",
    "    while len(all_descriptors) > 6:\n",
    "        rmse = 100.0\n",
    "        diff = 0.0\n",
    "        mae = 100.0\n",
    "        r2 = -1.00\n",
    "        for x in range(len(all_descriptors)):\n",
    "            temp_descriptor = all_descriptors[x]\n",
    "            new_list = all_descriptors.copy()\n",
    "            new_list.remove(temp_descriptor)\n",
    "            results = evaluate_model(new_list, df[target], df,output=False)\n",
    "            new_diff = 100.0 - float(results[4])\n",
    "            \n",
    "            if new_diff >= diff:\n",
    "                if new_diff == diff:\n",
    "                    if mae == results[2]:\n",
    "                        if results[0] > r2:\n",
    "                            diff = new_diff\n",
    "                            mae = results[2]\n",
    "                            r2 = results[0]\n",
    "                            rmse = results[4]\n",
    "                            best_list = new_list\n",
    "                    elif mae > results[2]:\n",
    "                        diff = new_diff\n",
    "                        mae = results[2]\n",
    "                        r2 = results[0]\n",
    "                        rmse = results[4]\n",
    "                        best_list = new_list\n",
    "                else:\n",
    "                    diff = new_diff\n",
    "                    mae = results[2]\n",
    "                    r2 = results[0]\n",
    "                    rmse = results[4]\n",
    "                    best_list = new_list\n",
    "                \n",
    "        all_descriptors = best_list\n",
    "        print(len(all_descriptors))\n",
    "        print(rmse)\n",
    "        \n",
    "    print(all_descriptors)\n",
    "    print(rmse)\n",
    "    \n",
    "    return all_descriptors"
   ]
  },
  {
   "cell_type": "markdown",
   "metadata": {},
   "source": [
    "This is a list of all of the DFT descriptors"
   ]
  },
  {
   "cell_type": "code",
   "execution_count": null,
   "metadata": {},
   "outputs": [],
   "source": [
    "descriptors = [\n",
    "    'AccHOMO', 'AccCalcLUMO', 'AccFundBg', 'AccOptBg', 'AccEnergyTransitioneV', 'AccTriplet', 'AccDeltaHOMO', 'AccDeltaLUMO',\n",
    "    'DeltaDipMom', 'GSDipMom', 'AccEnergyTransitionWavenumber', 'AccOscStr', 'AccSumOscStr', 'AccElectroIndex', 'AccNucleoIndex',\n",
    "    'AccChemHard', 'AccElectrodonating', 'AccElectroaccepting', 'PiSystemSize', 'Planarity', 'Polarizability', 'DonHOMO',\n",
    "    'DonCalcLUMO', 'DonFundBg', 'DonEnergyTransitioneV', 'DonDeltaHOMO', 'DonDeltaLUMO', 'DonEnergyTransitionWavenumber',\n",
    "    'DonOscStr', 'DonSumOscStr', 'DonElectroIndex', 'DonNucleoIndex', 'DonChemHard', 'DonElectrodonating', 'DonElectroaccepting',\n",
    "    'AbsFOM', 'LUMOOffset', 'HOMOOffset', 'DHomoALumoOffset']\n",
    "print(len(descriptors))"
   ]
  },
  {
   "cell_type": "markdown",
   "metadata": {},
   "source": [
    "# Analysis of Descriptors for OPEP Models"
   ]
  },
  {
   "cell_type": "markdown",
   "metadata": {},
   "source": [
    "Each model has two methods to select descriptors. You can choose which descriptors to add, by adding it to the \"best_descriptors\" list, or we can use code to choose the best descriptors (optimize_eq() )"
   ]
  },
  {
   "cell_type": "markdown",
   "metadata": {},
   "source": [
    "## OPEP/B3LYP Jsc for PCE >9%"
   ]
  },
  {
   "cell_type": "code",
   "execution_count": null,
   "metadata": {},
   "outputs": [],
   "source": [
    "#best_descriptors = optimize_eq('DFT', df_highPCE, 'ExperimentalJsc')\n",
    "best_descriptors = [\n",
    "    'DeltaDipMom', 'Polarizability', 'DonElectrodonating',\n",
    "    'acc_first_oscs', 'acc_lowest_transition_wavenumber', 'don_lowest_transition_wavenumber']\n",
    "LassoJsc_highPCE = evaluate_model(best_descriptors, df_highPCE['ExperimentalJsc'], df_highPCE, cf=True)"
   ]
  },
  {
   "cell_type": "markdown",
   "metadata": {},
   "source": [
    "## OPEP/B3LYP Jsc for any PCE"
   ]
  },
  {
   "cell_type": "code",
   "execution_count": null,
   "metadata": {},
   "outputs": [],
   "source": [
    "#best_descriptors = optimize_eq('DFT', df, 'ExperimentalJsc')\n",
    "best_descriptors =['AccTriplet', 'DeltaDipMom', 'AccElectrodonating', 'DonElectrodonating', 'acc_first_oscs', 'acc_lowest_transition_wavenumber']\n",
    "LassoJsc = evaluate_model(best_descriptors, df['ExperimentalJsc'], df, cf=True)"
   ]
  },
  {
   "cell_type": "markdown",
   "metadata": {},
   "source": [
    "## OPEP/B3LYP FF for PCE >9%"
   ]
  },
  {
   "cell_type": "code",
   "execution_count": null,
   "metadata": {},
   "outputs": [],
   "source": [
    "#best_descriptors = optimize_eq('DFT', df_highPCE, 'ExperimentalFF')\n",
    "best_descriptors = ['AccTriplet', 'AccElectroaccepting', 'Polarizability', 'DonElectrodonating', 'acc_lowest_transition_wavenumber', 'don_lowest_transition_wavenumber']\n",
    "LassoFF_highPCE = evaluate_model(best_descriptors, df_highPCE['ExperimentalFF'], df_highPCE, cf=True)"
   ]
  },
  {
   "cell_type": "markdown",
   "metadata": {},
   "source": [
    "## OPEP/B3LYP FF for any PCE"
   ]
  },
  {
   "cell_type": "code",
   "execution_count": null,
   "metadata": {},
   "outputs": [],
   "source": [
    "#best_descriptors = optimize_eq('DFT', df, 'ExperimentalFF')\n",
    "best_descriptors = ['AccTriplet', 'AccElectroaccepting', 'Polarizability', 'AbsFOM', 'acc_first_oscs', 'acc_lowest_transition_wavenumber']\n",
    "LassoFF = evaluate_model(best_descriptors, df['ExperimentalFF'], df, cf=True)"
   ]
  },
  {
   "cell_type": "markdown",
   "metadata": {},
   "source": [
    "## OPEP/B3LYP Voc for PCE >9%"
   ]
  },
  {
   "cell_type": "code",
   "execution_count": null,
   "metadata": {},
   "outputs": [],
   "source": [
    "#best_descriptors = optimize_eq('DFT', df_highPCE, 'ExperimentalVoc')\n",
    "best_descriptors =['GSDipMom', 'AccOscStr', 'AccElectroIndex', 'Polarizability', 'acc_first_oscs', 'acc_lowest_transition_wavenumber']\n",
    "LassoVoc_highPCE = evaluate_model(best_descriptors, df_highPCE['ExperimentalVoc'], df_highPCE, cf=True)"
   ]
  },
  {
   "cell_type": "markdown",
   "metadata": {},
   "source": [
    "## OPEP/B3LYP Voc for any PCE"
   ]
  },
  {
   "cell_type": "code",
   "execution_count": null,
   "metadata": {},
   "outputs": [],
   "source": [
    "#best_descriptors = optimize_eq('DFT', df, 'ExperimentalVoc')\n",
    "best_descriptors =['GSDipMom', 'AccElectrodonating', 'Polarizability', 'AbsFOM', 'acc_lowest_transition_wavenumber', 'don_lowest_transition_wavenumber']\n",
    "LassoVoc = evaluate_model(best_descriptors, df['ExperimentalVoc'], df, cf=True)"
   ]
  },
  {
   "cell_type": "markdown",
   "metadata": {},
   "source": [
    "## OPEP/B3LYP PCE for PCE >9%"
   ]
  },
  {
   "cell_type": "code",
   "execution_count": null,
   "metadata": {},
   "outputs": [],
   "source": [
    "#best_descriptors = optimize_eq('DFT', df_highPCE, 'ExperimentalPCE')\n",
    "best_descriptors =['AccTriplet', 'DeltaDipMom', 'AccEnergyTransitionWavenumber', 'Polarizability', 'DonElectrodonating', 'don_lowest_transition_wavenumber']\n",
    "LassoPCE_highPCE = evaluate_model(best_descriptors, df_highPCE['ExperimentalPCE'], df_highPCE, cf=True)"
   ]
  },
  {
   "cell_type": "markdown",
   "metadata": {},
   "source": [
    "## OPEP/B3LYP PCE for any PCE"
   ]
  },
  {
   "cell_type": "code",
   "execution_count": null,
   "metadata": {},
   "outputs": [],
   "source": [
    "#best_descriptors = optimize_eq('DFT', df, 'ExperimentalPCE')\n",
    "best_descriptors = ['AccTriplet', 'DeltaDipMom', 'AccOscStr', 'DonElectrodonating', 'acc_lowest_transition_wavenumber', 'don_lowest_transition_wavenumber']\n",
    "LassoPCE = evaluate_model(best_descriptors, df['ExperimentalPCE'], df, cf=True)"
   ]
  },
  {
   "cell_type": "markdown",
   "metadata": {},
   "source": [
    "# OPEP/sTD-DFT models"
   ]
  },
  {
   "cell_type": "markdown",
   "metadata": {},
   "source": [
    "Two different datasets were used. The first is on the same acceptor-donor pairs as the OPEP/B3LYP dataset. The second has additional donors so there is a larger dataset, referred to as the \"Expanded\" models"
   ]
  },
  {
   "cell_type": "code",
   "execution_count": null,
   "metadata": {},
   "outputs": [],
   "source": [
    "df_sTD = pd.read_csv(os.path.join(base_dir, 'sTDDFT_for_analysis.csv'))  #includes additional acceptor-donor pairs not in the original DFT data\n",
    "print(\"Number of acceptor-donor pairs is \" + str(len(df_sTD.index)))\n",
    "\n",
    "df_sTD_highPCE = pd.read_csv(os.path.join(base_dir, 'sTDDFT_for_analysis_highPCE.csv')) #includes additional acceptor-donor pairs not in the original DFT data, but all have PCE > 9%\n",
    "print(\"Number of acceptor-donor pairs with experimental PCE above 9% is \" + str(len(df_sTD_highPCE.index)))"
   ]
  },
  {
   "cell_type": "code",
   "execution_count": null,
   "metadata": {},
   "outputs": [],
   "source": [
    "sTDDFT_fields = {k: float for k in [\n",
    "    'sTDDFTLUMO', 'sTDDFTHOMO', 'sTDDFTdeltaLUMO', 'sTDDFTdeltaHOMO', 'sTDDFToptbg', \n",
    "    'sTDDFToscs', 'sTDDFTfundbg', 'sTDDFTsinglepointenergy', 'sTDDFTdipolemoment', 'sTDDFTsummedoscs', 'sTDDFTabsFOM',\n",
    "    'sTDDFTScharberVoc', 'sTDDFTScharberJscDon', 'sTDDFTScharberJscAcc', 'sTDDFTScharberJscTot', 'sTDDFTScharberPCETot',\n",
    "    'sTDDFTScharberPCEAcc', 'sTDDFTScharberPCEDon', 'donsTDDFTLUMO', 'donsTDDFTHOMO', \n",
    "    'donsTDDFTdeltaLUMO', 'donsTDDFTdeltaHOMO', 'donsTDDFToptbg', 'donsTDDFToscs',\n",
    "    'donsTDDFTfundbg', 'donsTDDFTsinglepointenergy', 'donsTDDFTdipolemoment', 'donsTDDFTsummedoscs', 'donsTDDFTabsFOM', \n",
    "    'sTDDFTDHomoALumoOffset', 'sTDDFTaccElectrophilicity', 'sTDDFTAccChemHard',  'sTDDFTAccElectrodonating', 'sTDDFTAccElectroaccepting',\n",
    "    'sTDDFTDonChemHard',  'sTDDFTDonElectrodonating', 'sTDDFTDonElectroaccepting', \n",
    "    'sTDDFTdonlowestengtranseV', 'sTDDFTdonlowestengtranswavenumber', 'sTDDFTdonfirstengtranseV', 'sTDDFTdonfirstengtranswavenumber', 'sTDDFTdonfirstoscs',\n",
    "    'sTDDFTacclowestengtranseV', 'sTDDFTacclowestengtranswavenumber', 'sTDDFTaccfirstengtranseV', 'sTDDFTaccfirstengtranswavenumber', 'sTDDFTaccfirstoscs',\n",
    "    'sTDDFTacchighestoscsunderten', 'sTDDFTdonhighestoscsunderten',\n",
    "    'sTDDFTdonElectrophilicity', 'sTDDFTHOMOoffset', 'sTDDFTLUMOoffset', 'Planarity', 'PiSystemSize', \n",
    "    'ScharberFF', 'ExperimentalFF', 'ExperimentalVoc', 'ExperimentalJsc', 'ExperimentalPCE']\n",
    "}\n",
    "df_sTD = df_sTD.astype(sTDDFT_fields)\n",
    "df_sTD_highPCE = df_sTD_highPCE.astype(sTDDFT_fields)"
   ]
  },
  {
   "cell_type": "markdown",
   "metadata": {},
   "source": [
    "## OPEP/sTD-DFT PCE Expanded for PCE >9%"
   ]
  },
  {
   "cell_type": "code",
   "execution_count": null,
   "metadata": {},
   "outputs": [],
   "source": [
    "#best_descriptors = optimize_eq('sTD-DFT', df_sTD_highPCE, 'ExperimentalPCE')\n",
    "best_descriptors =['sTDDFTdeltaHOMO', 'sTDDFTsummedoscs', 'donsTDDFTsummedoscs', 'donsTDDFTabsFOM', 'sTDDFTDonElectrodonating', 'sTDDFTdonfirstengtranswavenumber']\n",
    "LassoPCE_sTD_highPCE_all = evaluate_model(best_descriptors, df_sTD_highPCE['ExperimentalPCE'], df_sTD_highPCE, cf=True)"
   ]
  },
  {
   "cell_type": "markdown",
   "metadata": {},
   "source": [
    "## OPEP/sTD-DFT PCE for PCE>9%"
   ]
  },
  {
   "cell_type": "code",
   "execution_count": null,
   "metadata": {},
   "outputs": [],
   "source": [
    "#best_descriptors = optimize_eq('sTD-DFT', df_highPCE, 'ExperimentalPCE')\n",
    "best_descriptors = ['sTDDFTdeltaLUMO', 'sTDDFTdeltaHOMO', 'donsTDDFTdipolemoment', 'sTDDFTsummedoscs', 'donsTDDFTabsFOM', 'sTDDFTdonlowestengtranswavenumber']\n",
    "LassoPCE_sTD_highPCE = evaluate_model(best_descriptors, df_highPCE['ExperimentalPCE'], df_highPCE, cf=True)"
   ]
  },
  {
   "cell_type": "markdown",
   "metadata": {},
   "source": [
    "## OPEP/sTD-DFT PCE Expanded for any experimental PCE"
   ]
  },
  {
   "cell_type": "code",
   "execution_count": null,
   "metadata": {},
   "outputs": [],
   "source": [
    "#best_descriptors = optimize_eq('sTD-DFT', df_sTD, 'ExperimentalPCE')\n",
    "best_descriptors =['sTDDFTdeltaLUMO', 'sTDDFTsinglepointenergy', 'donsTDDFTHOMO', 'Planarity', 'sTDDFTsummedoscs', 'donsTDDFTsummedoscs']\n",
    "LassoPCE_sTD_all = evaluate_model(best_descriptors, df_sTD['ExperimentalPCE'], df_sTD, cf=True)"
   ]
  },
  {
   "cell_type": "markdown",
   "metadata": {},
   "source": [
    "## OPEP/sTD-DFT PCE for any experimental PCE"
   ]
  },
  {
   "cell_type": "code",
   "execution_count": null,
   "metadata": {},
   "outputs": [],
   "source": [
    "#best_descriptors = optimize_eq('sTD-DFT', df, 'ExperimentalPCE')\n",
    "best_descriptors =['sTDDFToscs', 'donsTDDFTsinglepointenergy', 'Planarity', 'sTDDFTsummedoscs', 'sTDDFTaccfirstengtranswavenumber', 'sTDDFTacchighestoscsunderten']\n",
    "LassoPCE_sTD = evaluate_model(best_descriptors, df['ExperimentalPCE'], df, cf=True)"
   ]
  },
  {
   "cell_type": "markdown",
   "metadata": {},
   "source": [
    "## OPEP/sTD-DFT Voc Expanded for PCE>9%"
   ]
  },
  {
   "cell_type": "code",
   "execution_count": null,
   "metadata": {},
   "outputs": [],
   "source": [
    "#best_descriptors = optimize_eq('sTD-DFT', df_sTD_highPCE, 'ExperimentalVoc')\n",
    "best_descriptors =['sTDDFTsinglepointenergy', 'sTDDFTdipolemoment', 'donsTDDFTdipolemoment', 'Planarity', 'PiSystemSize', 'sTDDFTaccfirstengtranswavenumber']\n",
    "LassoVoc_sTD_highPCE_all = evaluate_model(best_descriptors, df_sTD_highPCE['ExperimentalVoc'], df_sTD_highPCE, cf=True)"
   ]
  },
  {
   "cell_type": "markdown",
   "metadata": {},
   "source": [
    "## OPEP/sTD-DFT Voc for experimental PCE >9%"
   ]
  },
  {
   "cell_type": "code",
   "execution_count": null,
   "metadata": {},
   "outputs": [],
   "source": [
    "#best_descriptors = optimize_eq('sTD-DFT', df_highPCE, 'ExperimentalVoc')\n",
    "best_descriptors =['donsTDDFTsinglepointenergy', 'donsTDDFTdipolemoment', 'PiSystemSize', 'sTDDFTabsFOM', 'donsTDDFTabsFOM', 'sTDDFTAccElectrodonating']\n",
    "LassoVoc_sTD_highPCE = evaluate_model(best_descriptors, df_highPCE['ExperimentalVoc'], df_highPCE, cf=True)"
   ]
  },
  {
   "cell_type": "markdown",
   "metadata": {},
   "source": [
    "## OPEP/sTD-DFT Voc Expanded for any experimental PCE"
   ]
  },
  {
   "cell_type": "code",
   "execution_count": null,
   "metadata": {},
   "outputs": [],
   "source": [
    "#best_descriptors = optimize_eq('sTD-DFT', df_sTD, 'ExperimentalVoc')\n",
    "best_descriptors =['sTDDFTdipolemoment', 'donsTDDFTsinglepointenergy', 'sTDDFTabsFOM', 'sTDDFTAccElectrodonating', 'sTDDFTdonlowestengtranswavenumber', 'sTDDFTaccfirstengtranswavenumber']\n",
    "LassoVoc_sTD_all = evaluate_model(best_descriptors, df_sTD['ExperimentalVoc'], df_sTD, cf=True)"
   ]
  },
  {
   "cell_type": "markdown",
   "metadata": {},
   "source": [
    "## OPEP/sTD-DFT Voc for any experimental PCE"
   ]
  },
  {
   "cell_type": "code",
   "execution_count": null,
   "metadata": {},
   "outputs": [],
   "source": [
    "#best_descriptors = optimize_eq('sTD-DFT', df, 'ExperimentalVoc')\n",
    "best_descriptors =['donsTDDFTsinglepointenergy', 'donsTDDFTdipolemoment', 'PiSystemSize', 'sTDDFTabsFOM', 'donsTDDFTabsFOM', 'sTDDFTAccElectrodonating']\n",
    "LassoVoc_sTD= evaluate_model(best_descriptors, df['ExperimentalVoc'], df, cf=True)"
   ]
  },
  {
   "cell_type": "markdown",
   "metadata": {},
   "source": [
    "## OPEP/sTD-DFT Jsc Expanded for experimental PCE >9%"
   ]
  },
  {
   "cell_type": "code",
   "execution_count": null,
   "metadata": {},
   "outputs": [],
   "source": [
    "#best_descriptors = optimize_eq('sTD-DFT', df_sTD_highPCE, 'ExperimentalJsc')\n",
    "best_descriptors = ['sTDDFTdeltaHOMO', 'donsTDDFTdeltaLUMO', 'sTDDFTsummedoscs', 'donsTDDFTabsFOM', 'sTDDFTDonElectrodonating', 'sTDDFTaccfirstengtranswavenumber']\n",
    "LassoJsc_sTD_highPCE_all = evaluate_model(best_descriptors, df_sTD_highPCE['ExperimentalJsc'], df_sTD_highPCE, cf=True)"
   ]
  },
  {
   "cell_type": "markdown",
   "metadata": {},
   "source": [
    "## OPEP/sTD-DFT Jsc for experimental PCE >9%"
   ]
  },
  {
   "cell_type": "code",
   "execution_count": null,
   "metadata": {},
   "outputs": [],
   "source": [
    "#best_descriptors = optimize_eq('sTD-DFT', df_highPCE, 'ExperimentalJsc')\n",
    "best_descriptors =['sTDDFTdeltaLUMO', 'sTDDFTdeltaHOMO', 'donsTDDFTsinglepointenergy', 'sTDDFTaccElectrophilicity', 'sTDDFTsummedoscs', 'donsTDDFTabsFOM']\n",
    "LassoJsc_sTD_highPCE= evaluate_model(best_descriptors, df_highPCE['ExperimentalJsc'], df_highPCE, cf=True)"
   ]
  },
  {
   "cell_type": "markdown",
   "metadata": {},
   "source": [
    "## OPEP/sTD-DFT Jsc Expanded for any experimental PCE"
   ]
  },
  {
   "cell_type": "code",
   "execution_count": null,
   "metadata": {},
   "outputs": [],
   "source": [
    "#best_descriptors = optimize_eq('sTD-DFT', df_sTD, 'ExperimentalJsc')\n",
    "best_descriptors =['sTDDFTdeltaLUMO', 'sTDDFTdeltaHOMO', 'sTDDFTsinglepointenergy', 'Planarity', 'donsTDDFTsummedoscs', 'sTDDFTAccElectrodonating']\n",
    "LassoJsc_sTD_all= evaluate_model(best_descriptors, df_sTD['ExperimentalJsc'], df_sTD, cf=True)"
   ]
  },
  {
   "cell_type": "markdown",
   "metadata": {},
   "source": [
    "## OPEP/sTD-DFFT Jsc for any experimental PCE"
   ]
  },
  {
   "cell_type": "code",
   "execution_count": null,
   "metadata": {},
   "outputs": [],
   "source": [
    "#best_descriptors = optimize_eq('sTD-DFT', df, 'ExperimentalJsc')\n",
    "best_descriptors =['sTDDFTdeltaLUMO', 'sTDDFTdeltaHOMO', 'sTDDFTsinglepointenergy', 'Planarity', 'donsTDDFTabsFOM', 'sTDDFTAccElectrodonating']\n",
    "LassoJsc_sTD= evaluate_model(best_descriptors, df['ExperimentalJsc'], df, cf=True)"
   ]
  },
  {
   "cell_type": "markdown",
   "metadata": {},
   "source": [
    "## OPEP/sTD-DFT FF Expanded for experimental PCE >9%"
   ]
  },
  {
   "cell_type": "code",
   "execution_count": null,
   "metadata": {},
   "outputs": [],
   "source": [
    "#best_descriptors =optimize_eq('sTD-DFT', df_sTD_highPCE, 'ExperimentalFF')\n",
    "best_descriptors = ['sTDDFTsinglepointenergy', 'donsTDDFTHOMO', 'Planarity', 'sTDDFTabsFOM', 'donsTDDFTabsFOM', 'sTDDFTAccChemHard']\n",
    "LassoFF_sTD_highPCE_all= evaluate_model(best_descriptors, df_sTD_highPCE['ExperimentalFF'], df_sTD_highPCE, cf=True)"
   ]
  },
  {
   "cell_type": "markdown",
   "metadata": {},
   "source": [
    "## OPEP/sTD-DFT FF for PCE >9%"
   ]
  },
  {
   "cell_type": "code",
   "execution_count": null,
   "metadata": {},
   "outputs": [],
   "source": [
    "#best_descriptors = optimize_eq('sTD-DFT', df_highPCE, 'ExperimentalFF')\n",
    "best_descriptors =['donsTDDFTdipolemoment', 'sTDDFTsummedoscs', 'donsTDDFTabsFOM', 'sTDDFTAccChemHard', 'sTDDFTdonlowestengtranswavenumber', 'sTDDFTaccfirstengtranswavenumber']\n",
    "LassoFF_sTD_highPCE= evaluate_model(best_descriptors, df_highPCE['ExperimentalFF'], df_highPCE, cf=True)"
   ]
  },
  {
   "cell_type": "markdown",
   "metadata": {},
   "source": [
    "## OPEP/sTD-DFT FF Expanded for any experimental PCE"
   ]
  },
  {
   "cell_type": "code",
   "execution_count": null,
   "metadata": {},
   "outputs": [],
   "source": [
    "#best_descriptors = optimize_eq('sTD-DFT', df_sTD, 'ExperimentalFF')\n",
    "best_descriptors = ['sTDDFTHOMO', 'sTDDFTdeltaLUMO', 'sTDDFToscs', 'donsTDDFToscs', 'sTDDFTabsFOM', 'sTDDFTDonChemHard']\n",
    "LassoFF_sTD_all = evaluate_model(best_descriptors, df_sTD['ExperimentalFF'], df_sTD, cf=True)"
   ]
  },
  {
   "cell_type": "markdown",
   "metadata": {},
   "source": [
    "## OPEP/sTD-DFT FF for any experimental PCE"
   ]
  },
  {
   "cell_type": "code",
   "execution_count": null,
   "metadata": {},
   "outputs": [],
   "source": [
    "#best_descriptors = optimize_eq('sTD-DFT', df, 'ExperimentalFF')\n",
    "best_descriptors =['sTDDFTdeltaLUMO', 'sTDDFTsinglepointenergy', 'donsTDDFTsinglepointenergy', 'sTDDFTHOMOoffset', 'Planarity', 'donsTDDFTsummedoscs']\n",
    "LassoFF_sTD= evaluate_model(best_descriptors, df['ExperimentalFF'], df, cf=True)"
   ]
  },
  {
   "cell_type": "markdown",
   "metadata": {},
   "source": [
    "# Histogram of experimental fill factors"
   ]
  },
  {
   "cell_type": "code",
   "execution_count": null,
   "metadata": {},
   "outputs": [],
   "source": [
    "import scipy.stats as stats\n",
    "import math\n",
    "\n",
    "SMALL_SIZE = 10\n",
    "MEDIUM_SIZE = 12\n",
    "BIGGER_SIZE = 15\n",
    "\n",
    "#plt.style.use('seaborn')\n",
    "pal = sns.color_palette(\"hls\", 8)\n",
    "pal = pal.as_hex()\n",
    "\n",
    "plt.rc('font', size=SMALL_SIZE)          # controls default text sizes\n",
    "\n",
    "x = df_sTD.ExperimentalFF\n",
    "mean = np.mean(df_sTD.ExperimentalFF)\n",
    "std = np.std(df_sTD.ExperimentalFF)\n",
    "\n",
    "fig, ax1 = plt.subplots(figsize=(10, 6))\n",
    "n, bins, patches = ax1.hist(x, bins = 20, density = False, color = 'darkgray')\n",
    "\n",
    "ax1.axvline(65, ls = '--', color = 'teal', lw = 2)\n",
    "ax1.axvline(70, ls = '--', color = 'r', lw = 2)\n",
    "ax1.axis([40, 80, 0, 15])\n",
    "\n",
    "ax1.text(61, 13, \"Scharber\\n FF = 65%\", fontsize = 15, verticalalignment = 'center', ha = 'center', color = 'teal')\n",
    "ax1.text(74, 13, \"Imamura\\n FF = 70%\", fontsize = 15, verticalalignment = 'center', ha = 'center', color = 'r')\n",
    "\n",
    "ax1.set(xlabel = 'Fill Factor (%)', ylabel = 'Number of occurences')\n",
    "plt.tight_layout()\n",
    "plt.savefig(os.path.join(tgt_dir, 'FF_histogram.pdf'))\n",
    "plt.show()"
   ]
  },
  {
   "cell_type": "markdown",
   "metadata": {},
   "source": [
    "# Comparing cross-validated models"
   ]
  },
  {
   "cell_type": "code",
   "execution_count": null,
   "metadata": {},
   "outputs": [],
   "source": [
    "class SMWrapper(BaseEstimator, RegressorMixin):\n",
    "    \"\"\" A universal sklearn-style wrapper for statsmodels regressors \"\"\"\n",
    "    def __init__(self, model_class, fit_intercept=True):\n",
    "        self.model_class = model_class\n",
    "        self.fit_intercept = fit_intercept\n",
    "    def fit(self, X, y):\n",
    "        if self.fit_intercept:\n",
    "            X = sm.add_constant(X)\n",
    "        self.model_ = self.model_class(y, X)\n",
    "        self.results_ = self.model_.fit()\n",
    "    def predict(self, X):\n",
    "        if self.fit_intercept:\n",
    "            X = sm.add_constant(X)\n",
    "        return self.results_.predict(X)\n",
    "    \n",
    "\n",
    "\n",
    "def CrossValModels(predicted, target):\n",
    "    # predicted is the list of predicted values. Ex: df['ScharberPCEtotal'] or PerrisPCEcalc\n",
    "    # target is the target experimental value. Ex: df['ExperimentalPCE']\n",
    "\n",
    "    X = predicted\n",
    "    y = target\n",
    "    score = cross_val_score(SMWrapper(sm.OLS), X, y, cv=5, scoring = 'r2')\n",
    "    SEM_r2 = round((score.std() / math.sqrt(5)) , 3)\n",
    "    #r2 = str(round(score.mean(), 3)) + ' +/- ' +  str(SEM_r2)\n",
    "    r2 = round(float(score.mean()), 3)\n",
    "    \n",
    "    score = cross_val_score(SMWrapper(sm.OLS), X, y, cv=5, scoring = 'neg_mean_absolute_error')\n",
    "    score = np.multiply(score, -1)\n",
    "    SEM_MAE = round((score.std() / math.sqrt(5)) , 2)\n",
    "    #MAE = str(round(score.mean(), 2)) + ' +/- ' +  str(SEM_MAE)\n",
    "    MAE = round(score.mean(), 2) \n",
    "    \n",
    "    score = cross_val_score(SMWrapper(sm.OLS), X, y, cv=5, scoring = 'neg_mean_squared_error')\n",
    "    score = np.sqrt(score * -1)\n",
    "    SEM_RMSE = round((score.std() / math.sqrt(5)) , 2)\n",
    "    #RMSE = str(round(score.mean(), 2)) + ' +/- ' +  str(SEM_RMSE)\n",
    "    RMSE = round(score.mean(), 2)\n",
    "    \n",
    "    MAPE_scorer = make_scorer(mean_absolute_percentage_error)\n",
    "    score = cross_val_score(SMWrapper(sm.OLS), X, y, cv=5, scoring = MAPE_scorer)\n",
    "    score = score * 100\n",
    "    SEM_MAPE = round((score.std() / math.sqrt(5)) , 2)\n",
    "    MAPE = round(score.mean(), 2)\n",
    "\n",
    "    return round(r2,2), SEM_r2, MAE, SEM_MAE, RMSE, SEM_RMSE, MAPE, SEM_MAPE"
   ]
  },
  {
   "cell_type": "code",
   "execution_count": null,
   "metadata": {},
   "outputs": [],
   "source": [
    "# Table 1 is using only DFT data\n",
    "OPEP_B3LYP_PCE_Calc_values = []\n",
    "OPEP_B3LYP_PCE_FF65_values = []\n",
    "OPEP_B3LYP_PCE_FF67_values = []\n",
    "OPEP_B3LYP_PCE_FF70_values = []\n",
    "\n",
    "for i in range(len(LassoFF[-1])):\n",
    "    # calculating PCE using models to predict Voc, Jsc, and FF\n",
    "    OPEP_B3LYP_PCE_Calc_values.append(LassoVoc[-1][i] * (LassoFF[-1][i]/100) * LassoJsc[-1][i])\n",
    "    # examining if setting the FF to various constants is better than predicting it for calculating PCE\n",
    "    OPEP_B3LYP_PCE_FF65_values.append(LassoVoc[-1][i] * 0.65 * LassoJsc[-1][i])\n",
    "    OPEP_B3LYP_PCE_FF67_values.append(LassoVoc[-1][i] * 0.67 * LassoJsc[-1][i])\n",
    "    OPEP_B3LYP_PCE_FF70_values.append(LassoVoc[-1][i] * 0.70 * LassoJsc[-1][i])\n",
    "\n",
    "OPEP_B3LYP_PCE_Calc = CrossValModels(OPEP_B3LYP_PCE_Calc_values, df['ExperimentalPCE'])\n",
    "OPEP_B3LYP_PCE_FF65 = CrossValModels(OPEP_B3LYP_PCE_FF65_values, df['ExperimentalPCE'])\n",
    "OPEP_B3LYP_PCE_FF67 = CrossValModels(OPEP_B3LYP_PCE_FF67_values, df['ExperimentalPCE'])\n",
    "OPEP_B3LYP_PCE_FF70 = CrossValModels(OPEP_B3LYP_PCE_FF70_values, df['ExperimentalPCE'])\n",
    "\n",
    "SchPCEtot = CrossValModels(df['ScharberPCEtotal'], df['ExperimentalPCE'])\n",
    "SchPCEdon = CrossValModels(df['ScharberPCEdon'], df['ExperimentalPCE'])\n",
    "SchPCEacc = CrossValModels(df['ScharberPCEacc'], df['ExperimentalPCE'])\n",
    "SchPCElowestoptbg = CrossValModels(df['ScharberPCElowestoptbg'], df['ExperimentalPCE'])\n",
    "ImamuraPCEtot = CrossValModels(df['ImamuraPCEtotal'], df['ExperimentalPCE'])\n",
    "ImamuraPCEacc = CrossValModels(df['ImamuraPCEacc'], df['ExperimentalPCE'])\n",
    "ImamuraPCEdon = CrossValModels(df['ImamuraPCEdon'], df['ExperimentalPCE'])\n",
    "AlharbiPCEDon = CrossValModels(df['AlharbiPCEDon'], df['ExperimentalPCE'])\n",
    "AlharbiPCEAcc = CrossValModels(df['AlharbiPCEAcc'], df['ExperimentalPCE'])\n",
    "OPEP_B3LYP_PCE_pred= LassoPCE[0:8]\n",
    "\n",
    "\n",
    "list_Table1 = [\n",
    "    SchPCEtot, SchPCEdon, SchPCEacc, SchPCElowestoptbg, ImamuraPCEtot, ImamuraPCEacc, ImamuraPCEdon,\n",
    "    AlharbiPCEDon, AlharbiPCEAcc, OPEP_B3LYP_PCE_Calc, OPEP_B3LYP_PCE_pred]\n",
    "Table1 = pd.DataFrame(\n",
    "    list_Table1,\n",
    "    columns=['r^2', '+/- r^2 SEM', 'MAE', '+/- MAE SEM','RMSE', '+/- RMSE SEM', 'MAPE', '+/- MAPE SEM'],\n",
    "    index=[\n",
    "        'SchPCEtot', 'SchPCEdon', 'SchPCEacc', 'SchPCElowestoptbg',\n",
    "        'ImamuraPCEtot', 'ImamuraPCEacc', 'ImamuraPCEdon', 'AlharbiPCEDon', 'AlharbiPCEAcc',\n",
    "        'OPEP/B3LYP Calculated PCE', 'OPEP/B3LYP Predicted PCE'])\n",
    "Table1.sort_values(by=[\"RMSE\"], inplace=True, ascending = True)\n",
    "display(Table1)\n",
    "\n",
    "#Table 2 is using only DFT data with experimental PCE > 9%\n",
    "OPEP_B3LYP_PCE_Calc_highPCE_values = []\n",
    "OPEP_B3LYP_PCE_FF65_highPCE_values = []\n",
    "OPEP_B3LYP_PCE_FF67_highPCE_values = []\n",
    "OPEP_B3LYP_PCE_FF70_highPCE_values = []\n",
    "for i in range(len(LassoFF_highPCE[-1])):\n",
    "    OPEP_B3LYP_PCE_Calc_highPCE_values.append(LassoVoc_highPCE[-1][i] * (LassoFF_highPCE[-1][i]/100) * LassoJsc_highPCE[-1][i])\n",
    "    OPEP_B3LYP_PCE_FF65_highPCE_values.append(LassoVoc_highPCE[-1][i] * 0.65 * LassoJsc_highPCE[-1][i])\n",
    "    OPEP_B3LYP_PCE_FF67_highPCE_values.append(LassoVoc_highPCE[-1][i] * 0.67 * LassoJsc_highPCE[-1][i])\n",
    "    OPEP_B3LYP_PCE_FF70_highPCE_values.append(LassoVoc_highPCE[-1][i] * 0.70 * LassoJsc_highPCE[-1][i])\n",
    "OPEP_B3LYP_PCE_Calc_highPCE = CrossValModels(OPEP_B3LYP_PCE_Calc_highPCE_values, df_highPCE['ExperimentalPCE'])\n",
    "OPEP_B3LYP_PCE_FF65_highPCE = CrossValModels(OPEP_B3LYP_PCE_FF65_highPCE_values, df_highPCE['ExperimentalPCE'])\n",
    "OPEP_B3LYP_PCE_FF67_highPCE = CrossValModels(OPEP_B3LYP_PCE_FF67_highPCE_values, df_highPCE['ExperimentalPCE'])\n",
    "OPEP_B3LYP_PCE_FF70_highPCE = CrossValModels(OPEP_B3LYP_PCE_FF70_highPCE_values, df_highPCE['ExperimentalPCE'])\n",
    "\n",
    "SchPCEtot_highPCE = CrossValModels(df_highPCE['ScharberPCEtotal'], df_highPCE['ExperimentalPCE'])\n",
    "SchPCEdon_highPCE = CrossValModels(df_highPCE['ScharberPCEdon'], df_highPCE['ExperimentalPCE'])\n",
    "SchPCEacc_highPCE = CrossValModels(df_highPCE['ScharberPCEacc'], df_highPCE['ExperimentalPCE'])\n",
    "SchPCElowestoptbg_highPCE = CrossValModels(df_highPCE['ScharberPCElowestoptbg'], df_highPCE['ExperimentalPCE'])\n",
    "ImamuraPCEtot_highPCE = CrossValModels(df_highPCE['ImamuraPCEtotal'], df_highPCE['ExperimentalPCE'])\n",
    "ImamuraPCEacc_highPCE = CrossValModels(df_highPCE['ImamuraPCEacc'], df_highPCE['ExperimentalPCE'])\n",
    "ImamuraPCEdon_highPCE = CrossValModels(df_highPCE['ImamuraPCEdon'], df_highPCE['ExperimentalPCE'])\n",
    "AlharbiPCEDon_highPCE = CrossValModels(df_highPCE['AlharbiPCEDon'], df_highPCE['ExperimentalPCE'])\n",
    "AlharbiPCEAcc_highPCE = CrossValModels(df_highPCE['AlharbiPCEAcc'], df_highPCE['ExperimentalPCE'])\n",
    "OPEP_B3LYP_PCE_pred_highPCE = LassoPCE_highPCE[0:8]\n",
    "\n",
    "list_Table2 = [\n",
    "    OPEP_B3LYP_PCE_pred_highPCE, SchPCEtot_highPCE, SchPCEdon_highPCE, SchPCEacc_highPCE, SchPCElowestoptbg_highPCE,\n",
    "    ImamuraPCEtot_highPCE, ImamuraPCEacc_highPCE, ImamuraPCEdon_highPCE,\n",
    "    AlharbiPCEDon_highPCE, AlharbiPCEAcc_highPCE, OPEP_B3LYP_PCE_Calc_highPCE]\n",
    "Table2 = pd.DataFrame(\n",
    "    list_Table2,\n",
    "    columns=['r^2', '+/- r^2 SEM','MAE','+/- MAE SEM', 'RMSE', '+/- RMSE SEM', 'MAPE', '+/- MAPE SEM'],\n",
    "    index=[\n",
    "        'OPEP/B3LYP PCE pred highPCE', 'SchPCEtot_highPCE', 'SchPCEdon_highPCE', 'SchPCEacc_highPCE', 'SchPCElowestoptbg_highPCE',\n",
    "        'ImamuraPCEtot_highPCE', 'ImamuraPCEacc_highPCE', 'ImamuraPCEdon_highPCE',\n",
    "        'AlharbiPCEDon_highPCE', 'AlharbiPCEAcc_highPCE', 'OPEP/B3LYP PCE calc highPCE'])\n",
    "Table2.sort_values(by=[\"RMSE\"], inplace=True, ascending = True)\n",
    "display(Table2)\n",
    "\n",
    "#Table 3 is using only sTD-DFT data with same experimental acceptor-donor pairs as Tables 1 and 2\n",
    "OPEP_sTDDFT_PCE_calc_values = []\n",
    "OPEP_sTDDFT_PCE_FF70_values = []\n",
    "\n",
    "for i in range(len(LassoFF_sTD[-1])):\n",
    "    OPEP_sTDDFT_PCE_calc_values.append(LassoVoc_sTD[-1][i] * (LassoFF_sTD[-1][i]/100) * LassoJsc_sTD[-1][i])\n",
    "    OPEP_sTDDFT_PCE_FF70_values.append(LassoVoc_sTD[-1][i] * 0.70 * LassoJsc_sTD[-1][i])\n",
    "OPEP_sTDDFT_PCE_calc = CrossValModels(OPEP_sTDDFT_PCE_calc_values, df['ExperimentalPCE'])\n",
    "OPEP_sTDDFT_PCE_FF70 = CrossValModels(OPEP_sTDDFT_PCE_FF70_values, df['ExperimentalPCE'])\n",
    "\n",
    "sTDDFTSchPCETot = CrossValModels(df['sTDDFTScharberPCETot'], df['ExperimentalPCE'])\n",
    "sTDDFTSchPCEAcc = CrossValModels(df['sTDDFTScharberPCEAcc'], df['ExperimentalPCE'])\n",
    "sTDDFTSchPCEDon = CrossValModels(df['sTDDFTScharberPCEDon'], df['ExperimentalPCE'])\n",
    "OPEP_sTDDFT_PCE_pred = LassoPCE_sTD[0:8]\n",
    "\n",
    "list_Table3 = [sTDDFTSchPCETot, sTDDFTSchPCEAcc, sTDDFTSchPCEDon, OPEP_sTDDFT_PCE_pred, OPEP_sTDDFT_PCE_calc, OPEP_sTDDFT_PCE_FF70]\n",
    "Table3 = pd.DataFrame(\n",
    "    list_Table3,\n",
    "    columns=['r^2', '+/- r^2 SEM','MAE', '+/- MAE SEM','RMSE', '+/- RMSE SEM', 'MAPE', '+/- MAPE SEM'],\n",
    "    index=['sTDDFTSchPCETot', 'sTDDFTSchPCEAcc', 'sTDDFTSchPCEDon', 'OPEP/sTDDFT PCE pred', 'OPEP/sTDDFT PCE calc', 'OPEP/sTDDFT PCE FF=70'])\n",
    "Table3.sort_values(by=[\"RMSE\"], inplace=True, ascending = True)\n",
    "display(Table3)\n",
    "\n",
    "#Table 4 is using only sTD-DFT data with same experimental acceptor-donor pairs as Tables 1 and 2, but with experimental PCE > 9%\n",
    "OPEP_sTDDFT_PCE_calc_highPCE_values = []\n",
    "OPEP_sTDDFT_PCE_FF70_highPCE_values = []\n",
    "for i in range(len(LassoFF_sTD_highPCE[-1])):\n",
    "    OPEP_sTDDFT_PCE_calc_highPCE_values.append(LassoVoc_sTD_highPCE[-1][i] * (LassoFF_sTD_highPCE[-1][i]/100) * LassoJsc_sTD_highPCE[-1][i])\n",
    "    OPEP_sTDDFT_PCE_FF70_highPCE_values.append(LassoVoc_sTD_highPCE[-1][i] * 0.70 * LassoJsc_sTD_highPCE[-1][i])\n",
    "OPEP_sTDDFT_PCE_calc_highPCE = CrossValModels(OPEP_sTDDFT_PCE_calc_highPCE_values, df_highPCE['ExperimentalPCE'])\n",
    "OPEP_sTDDFT_PCE_FF70_highPCE = CrossValModels(OPEP_sTDDFT_PCE_FF70_highPCE_values, df_highPCE['ExperimentalPCE'])\n",
    "\n",
    "sTDDFTSchPCETot_highPCE = CrossValModels(df_highPCE['sTDDFTScharberPCETot'], df_highPCE['ExperimentalPCE'])\n",
    "sTDDFTSchPCEAcc_highPCE = CrossValModels(df_highPCE['sTDDFTScharberPCEAcc'], df_highPCE['ExperimentalPCE'])\n",
    "sTDDFTSchPCEDon_highPCE = CrossValModels(df_highPCE['sTDDFTScharberPCEDon'], df_highPCE['ExperimentalPCE'])\n",
    "OPEP_sTDDFT_PCE_pred_highPCE = LassoPCE_sTD_highPCE[0:8]\n",
    "\n",
    "list_Table4 = [sTDDFTSchPCETot_highPCE, sTDDFTSchPCEAcc_highPCE, sTDDFTSchPCEDon_highPCE, OPEP_sTDDFT_PCE_pred_highPCE, OPEP_sTDDFT_PCE_calc_highPCE, OPEP_sTDDFT_PCE_FF70_highPCE]\n",
    "Table4 = pd.DataFrame(list_Table4, columns = ['r^2', '+/- r^2 SEM','MAE', '+/- MAE SEM','RMSE', '+/- RMSE SEM', 'MAPE', '+/- MAPE SEM'], index = ['sTDDFTSchPCETot_highPCE', 'sTDDFTSchPCEAcc_highPCE', 'sTDDFTSchPCEDon_highPCE', 'OPEP/sTDDFT PCE pred highPCE', 'OPEP/sTDDFT PCE calc highPCE', 'OPEP/sTDDFT PCE FF=70 highPCE'])\n",
    "Table4.sort_values(by=[\"RMSE\"], inplace=True, ascending = True)\n",
    "display(Table4)\n",
    "\n",
    "#Table 5 is using only sTD-DFT data but with additional acceptor-donor pairs\n",
    "OPEP_sTDDFT_PCE_calc_expanded_values = []\n",
    "OPEP_sTDDFT_PCE_FF70_expanded_values = []\n",
    "for i in range(len(LassoFF_sTD_all[-1])):\n",
    "    OPEP_sTDDFT_PCE_calc_expanded_values.append(LassoVoc_sTD_all[-1][i] * (LassoFF_sTD_all[-1][i]/100) * LassoJsc_sTD_all[-1][i])\n",
    "    OPEP_sTDDFT_PCE_FF70_expanded_values.append(LassoVoc_sTD_all[-1][i] * 0.70 * LassoJsc_sTD_all[-1][i])\n",
    "OPEP_sTDDFT_PCE_calc_expanded = CrossValModels(OPEP_sTDDFT_PCE_calc_expanded_values, df_sTD['ExperimentalPCE'])\n",
    "OPEP_sTDDFT_PCE_FF70_expanded = CrossValModels(OPEP_sTDDFT_PCE_FF70_expanded_values, df_sTD['ExperimentalPCE'])\n",
    "\n",
    "sTDDFTSchPCETotall = CrossValModels(df_sTD['sTDDFTScharberPCETot'], df_sTD['ExperimentalPCE'])\n",
    "sTDDFTSchPCEAccall = CrossValModels(df_sTD['sTDDFTScharberPCEAcc'], df_sTD['ExperimentalPCE'])\n",
    "sTDDFTSchPCEDonall = CrossValModels(df_sTD['sTDDFTScharberPCEDon'], df_sTD['ExperimentalPCE'])\n",
    "OPEP_sTDDFT_PCE_pred_expanded = LassoPCE_sTD_all[0:8]\n",
    "\n",
    "list_Table5 = [sTDDFTSchPCETotall, sTDDFTSchPCEAccall, sTDDFTSchPCEDonall, OPEP_sTDDFT_PCE_pred_expanded, OPEP_sTDDFT_PCE_calc_expanded, OPEP_sTDDFT_PCE_FF70_expanded]\n",
    "Table5 = pd.DataFrame(list_Table5, columns = ['r^2', '+/- r^2 SEM','MAE','+/- MAE SEM', 'RMSE', '+/- RMSE SEM', 'MAPE', '+/- MAPE SEM'], index = ['sTDDFTSchPCETotall', 'sTDDFTSchPCEAccall', 'sTDDFTSchPCEDonall', 'OPEP/sTDDFT Expanded PCE pred', 'OPEP/sTDDFT Expanded PCE calc', 'OPEP/sTDDFT Expanded PCE FF=70'])\n",
    "Table5.sort_values(by=[\"RMSE\"], inplace=True, ascending = True)\n",
    "display(Table5)\n",
    "\n",
    "#Table 6 is using only sTD-DFT data but with additional acceptor-donor pairs, and PCE > 9%\n",
    "OPEP_sTDDFT_PCE_calc_expanded_highPCE_values = []\n",
    "OPEP_sTDDFT_PCE_FF70_expanded_highPCE_values = []\n",
    "for i in range(len(LassoFF_sTD_highPCE_all[-1])):\n",
    "    OPEP_sTDDFT_PCE_calc_expanded_highPCE_values.append(LassoVoc_sTD_highPCE_all[-1][i] * (LassoFF_sTD_highPCE_all[-1][i]/100) * LassoJsc_sTD_highPCE_all[-1][i])\n",
    "    OPEP_sTDDFT_PCE_FF70_expanded_highPCE_values.append(LassoVoc_sTD_highPCE_all[-1][i] * 0.70 * LassoJsc_sTD_highPCE_all[-1][i])\n",
    "OPEP_sTDDFT_PCE_calc_expanded_highPCE = CrossValModels(OPEP_sTDDFT_PCE_calc_expanded_highPCE_values, df_sTD_highPCE['ExperimentalPCE'])\n",
    "OPEP_sTDDFT_PCE_FF70_expanded_highPCE = CrossValModels(OPEP_sTDDFT_PCE_FF70_expanded_highPCE_values, df_sTD_highPCE['ExperimentalPCE'])\n",
    "\n",
    "sTDDFTSchPCETotall_highPCE = CrossValModels(df_sTD_highPCE['sTDDFTScharberPCETot'], df_sTD_highPCE['ExperimentalPCE'])\n",
    "sTDDFTSchPCEAccall_highPCE = CrossValModels(df_sTD_highPCE['sTDDFTScharberPCEAcc'], df_sTD_highPCE['ExperimentalPCE'])\n",
    "sTDDFTSchPCEDonall_highPCE = CrossValModels(df_sTD_highPCE['sTDDFTScharberPCEDon'], df_sTD_highPCE['ExperimentalPCE'])\n",
    "OPEP_sTDDFT_PCE_pred_expanded_highPCE = LassoPCE_sTD_highPCE_all[0:8]\n",
    "\n",
    "list_Table6 = [sTDDFTSchPCETotall_highPCE, sTDDFTSchPCEAccall_highPCE, sTDDFTSchPCEDonall_highPCE, OPEP_sTDDFT_PCE_pred_expanded_highPCE, OPEP_sTDDFT_PCE_calc_expanded_highPCE, OPEP_sTDDFT_PCE_FF70_expanded_highPCE]\n",
    "Table6 = pd.DataFrame(list_Table6, columns = ['r^2', '+/- r^2 SEM','MAE', '+/- MAE SEM','RMSE', '+/- RMSE SEM', 'MAPE', '+/- MAPE SEM'], index = ['sTDDFTSchPCETotall_highPCE', 'sTDDFTSchPCEAccall_highPCE', 'sTDDFTSchPCEDonall_highPCE', 'OPEP/sTDDFT PCE Expanded pred highPCE', 'OPEP/sTDDFT PCE Expanded calc highPCE', 'OPEP/sTDDFT PCE Expanded FF=70 highPCE'])\n",
    "Table6.sort_values(by=[\"RMSE\"], inplace=True, ascending = True)\n",
    "display(Table6)\n",
    "\n",
    "\n"
   ]
  },
  {
   "cell_type": "markdown",
   "metadata": {},
   "source": [
    "# Comparing models for FF, Jsc, and Voc"
   ]
  },
  {
   "cell_type": "code",
   "execution_count": null,
   "metadata": {},
   "outputs": [],
   "source": [
    "#Table 7 is comparing all models for Fill Factor (FF) with high PCE\n",
    "ScharberFF_highPCE = CrossValModels(df_highPCE['ScharberFF'], df_highPCE['ExperimentalFF'])\n",
    "AlharbiFFDon_highPCE = CrossValModels(df_highPCE['AlharbiFFDon'], df_highPCE['ExperimentalFF'])\n",
    "AlharbiFFAcc_highPCE = CrossValModels(df_highPCE['AlharbiFFAcc'], df_highPCE['ExperimentalFF'])\n",
    "ImamuraFF_highPCE = CrossValModels(df_highPCE['ImamuraFF'], df_highPCE['ExperimentalFF'])\n",
    "OPEP_B3LYP_FF_highPCE = LassoFF_highPCE[0:8]\n",
    "OPEP_sTDDFT_FF_highPCE = LassoFF_sTD_highPCE[0:8]\n",
    "OPEP_sTDDFT_Expanded_FF_highPCE = LassoFF_sTD_highPCE_all[0:8]\n",
    "\n",
    "list_Table7 = [ScharberFF_highPCE, AlharbiFFDon_highPCE, AlharbiFFAcc_highPCE, ImamuraFF_highPCE, OPEP_B3LYP_FF_highPCE, OPEP_sTDDFT_FF_highPCE, OPEP_sTDDFT_Expanded_FF_highPCE]\n",
    "Table7 = pd.DataFrame(list_Table7, columns = ['r^2', '+/- r^2 SEM','MAE', '+/- MAE SEM','RMSE', '+/- RMSE SEM', 'MAPE', '+/- MAPE SEM'], index = ['ScharberFF_highPCE', 'AlharbiFFDon_highPCE', 'AlharbiFFAcc_highPCE', 'ImamuraFF_highPCE', 'OPEP/B3LYP FF highPCE', 'OPEP/sTDDFT FF highPCE', 'OPEP/sTDDFT Expanded FF highPCE'])\n",
    "Table7.sort_values(by=[\"RMSE\"], inplace=True, ascending = True)\n",
    "display(Table7)\n",
    "\n",
    "\n",
    "#Table 7b is comparing all models for Fill Factor (FF) \n",
    "ScharberFF = CrossValModels(df['ScharberFF'], df['ExperimentalFF'])\n",
    "AlharbiFFDon = CrossValModels(df['AlharbiFFDon'], df['ExperimentalFF'])\n",
    "AlharbiFFAcc = CrossValModels(df['AlharbiFFAcc'], df['ExperimentalFF'])\n",
    "ImamuraFF = CrossValModels(df['ImamuraFF'], df['ExperimentalFF'])\n",
    "OPEP_B3LYP_FF = LassoFF[0:8]\n",
    "OPEP_sTDDFT_FF = LassoFF_sTD[0:8]\n",
    "OPEP_sTDDFT_Expanded_FF = LassoFF_sTD_all[0:8]\n",
    "\n",
    "list_Table7b = [ScharberFF, AlharbiFFDon, AlharbiFFAcc, ImamuraFF, OPEP_B3LYP_FF, OPEP_sTDDFT_FF, OPEP_sTDDFT_Expanded_FF]\n",
    "Table7b = pd.DataFrame(list_Table7b, columns = ['r^2', '+/- r^2 SEM','MAE', '+/- MAE SEM','RMSE', '+/- RMSE SEM', 'MAPE', '+/- MAPE SEM'], index = ['ScharberFF', 'AlharbiFFDon', 'AlharbiFFAcc', 'ImamuraFF', 'OPEP/B3LYP FF', 'OPEP/sTDDFT FF', 'OPEP/sTDDFT Expanded FF'])\n",
    "Table7b.sort_values(by=[\"RMSE\"], inplace=True, ascending = True)\n",
    "display(Table7b)\n",
    "\n",
    "\n",
    "#Table 8 is comparing all models for short circuit current (Jsc) for high PCE\n",
    "ScharberJscAcc_highPCE = CrossValModels(df_highPCE['ScharberJscAcc'], df_highPCE['ExperimentalJsc'])\n",
    "ImamuraTotalJsc_highPCE = CrossValModels(df_highPCE['ImamuraTotalJsc'], df_highPCE['ExperimentalJsc'])\n",
    "ImamuraJscAcc_highPCE = CrossValModels(df_highPCE['ImamuraJscAcc'], df_highPCE['ExperimentalJsc'])\n",
    "ImamuraJscDon_highPCE = CrossValModels(df_highPCE['ImamuraJscDon'], df_highPCE['ExperimentalJsc'])\n",
    "ScharberTotalJsc_highPCE = CrossValModels(df_highPCE['ScharberTotalJsc'], df_highPCE['ExperimentalJsc'])\n",
    "ScharberJscDon_highPCE = CrossValModels(df_highPCE['ScharberJscDon'], df_highPCE['ExperimentalJsc'])\n",
    "ScharberJsclowestoptbg_highPCE = CrossValModels(df_highPCE['ScharberJsclowestoptbg'], df_highPCE['ExperimentalJsc'])\n",
    "OPEP_B3LYP_Jsc_highPCE = LassoJsc_highPCE[0:8]\n",
    "OPEP_sTDDFT_Jsc_highPCE = LassoJsc_sTD_highPCE[0:8]\n",
    "OPEP_sTDDFT_Expanded_Jsc_highPCE = LassoJsc_sTD_highPCE_all[0:8]\n",
    "\n",
    "list_Table8 = [ScharberJscAcc_highPCE, ImamuraTotalJsc_highPCE, ImamuraJscAcc_highPCE, ImamuraJscDon_highPCE, ScharberTotalJsc_highPCE, ScharberJscDon_highPCE, ScharberJsclowestoptbg_highPCE, OPEP_B3LYP_Jsc_highPCE, OPEP_sTDDFT_Jsc_highPCE, OPEP_sTDDFT_Expanded_Jsc_highPCE]\n",
    "Table8 = pd.DataFrame(list_Table8, columns = ['r^2', '+/- r^2 SEM','MAE', '+/- MAE SEM','RMSE', '+/- RMSE SEM', 'MAPE', '+/- MAPE SEM'], index = ['ScharberJscAcc_highPCE', 'ImamuraTotalJsc_highPCE', 'ImamuraJscAcc_highPCE', 'ImamuraJscDon_highPCE', 'ScharberTotalJsc_highPCE', 'ScharberJscDon_highPCE', 'ScharberJsclowestoptbg_highPCE', 'OPEP/B3LYP Jsc highPCE', 'OPEP/sTDDFT Jsc highPCE', 'OPEP/sTDDFT Expanded Jsc highPCE '])\n",
    "Table8.sort_values(by=[\"RMSE\"], inplace=True, ascending = True)\n",
    "display(Table8)\n",
    "\n",
    "#Table 8b is comparing all models for short circuit current (Jsc)\n",
    "ScharberJscAcc = CrossValModels(df['ScharberJscAcc'], df['ExperimentalJsc'])\n",
    "ImamuraTotalJsc = CrossValModels(df['ImamuraTotalJsc'], df['ExperimentalJsc'])\n",
    "ImamuraJscAcc = CrossValModels(df['ImamuraJscAcc'], df['ExperimentalJsc'])\n",
    "ImamuraJscDon = CrossValModels(df['ImamuraJscDon'], df['ExperimentalJsc'])\n",
    "ScharberTotalJsc = CrossValModels(df['ScharberTotalJsc'], df['ExperimentalJsc'])\n",
    "ScharberJscDon = CrossValModels(df['ScharberJscDon'], df['ExperimentalJsc'])\n",
    "ScharberJsclowestoptbg = CrossValModels(df['ScharberJsclowestoptbg'], df['ExperimentalJsc'])\n",
    "OPEP_B3LYP_Jsc = LassoJsc[0:8]\n",
    "OPEP_sTDDFT_Jsc = LassoJsc_sTD[0:8]\n",
    "OPEP_sTDDFT_Expanded_Jsc = LassoJsc_sTD_all[0:8]\n",
    "\n",
    "\n",
    "list_Table8b = [ScharberJscAcc, ImamuraTotalJsc, ImamuraJscAcc, ImamuraJscDon, ScharberTotalJsc, ScharberJscDon, ScharberJsclowestoptbg, OPEP_B3LYP_Jsc, OPEP_sTDDFT_Jsc, OPEP_sTDDFT_Expanded_Jsc]\n",
    "Table8b = pd.DataFrame(list_Table8b, columns = ['r^2', '+/- r^2 SEM','MAE', '+/- MAE SEM','RMSE', '+/- RMSE SEM', 'MAPE', '+/- MAPE SEM'], index = ['ScharberJscAcc', 'ImamuraTotalJsc', 'ImamuraJscAcc', 'ImamuraJscDon', 'ScharberTotalJsc', 'ScharberJscDon', 'ScharberJsclowestoptbg','OPEP/B3LYP Jsc', 'OPEP/sTDDFT Jsc', 'OPEP/sTDDFT Expanded Jsc'])\n",
    "Table8b.sort_values(by=[\"RMSE\"], inplace=True, ascending = True)\n",
    "display(Table8b)\n",
    "\n",
    "#Table 9 is comparing all models for open circuit voltage (Voc) for high PCE\n",
    "AlharbiVocAcc_highPCE = CrossValModels(df_highPCE['AlharbiVocAcc'], df_highPCE['ExperimentalVoc'])\n",
    "AlharbiVocDon_highPCE = CrossValModels(df_highPCE['AlharbiVocDon'], df_highPCE['ExperimentalVoc'])\n",
    "ImamuraVoc_highPCE = CrossValModels(df_highPCE['ImamuraVoc'], df_highPCE['ExperimentalVoc'])\n",
    "ScharberVoc_highPCE = CrossValModels(df_highPCE['ScharberVoc'], df_highPCE['ExperimentalVoc'])\n",
    "OPEP_B3LYP_Voc_highPCE = LassoVoc_highPCE[0:8]\n",
    "OPEP_sTDDFT_Voc_highPCE = LassoVoc_sTD_highPCE[0:8]\n",
    "OPEP_sTDDFT_Expanded_Voc_highPCE = LassoVoc_sTD_highPCE_all[0:8]\n",
    "\n",
    "list_Table9 = [AlharbiVocAcc_highPCE, AlharbiVocDon_highPCE, ImamuraVoc_highPCE,  ScharberVoc_highPCE, OPEP_B3LYP_Voc_highPCE, OPEP_sTDDFT_Voc_highPCE, OPEP_sTDDFT_Expanded_Voc_highPCE]\n",
    "Table9 = pd.DataFrame(list_Table9, columns = ['r^2', '+/- r^2 SEM','MAE', '+/- MAE SEM','RMSE', '+/- RMSE SEM', 'MAPE', '+/- MAPE SEM'], index = ['AlharbiVocAcc_highPCE', 'AlharbiVocDon_highPCE', 'ImamuraVoc_highPCE', 'ScharberVoc_highPCE', 'OPEP/B3LYP Voc highPCE', 'OPEP/sTDDFT Voc highPCE', 'OPEP/sTDDFT Expanded Voc highPCE'])\n",
    "Table9.sort_values(by=[\"RMSE\"], inplace=True, ascending = True)\n",
    "display(Table9)\n",
    "\n",
    "#Table 9b is comparing all models for open circuit voltage (Voc)\n",
    "AlharbiVocAcc = CrossValModels(df['AlharbiVocAcc'], df['ExperimentalVoc'])\n",
    "AlharbiVocDon = CrossValModels(df['AlharbiVocDon'], df['ExperimentalVoc'])\n",
    "ImamuraVoc = CrossValModels(df['ImamuraVoc'], df['ExperimentalVoc'])\n",
    "ScharberVoc = CrossValModels(df['ScharberVoc'], df['ExperimentalVoc'])\n",
    "OPEP_B3LYP_Voc = LassoVoc[0:8]\n",
    "OPEP_sTDDFT_Voc = LassoVoc_sTD[0:8]\n",
    "OPEP_sTDDFT_Expanded_Voc = LassoVoc_sTD_all[0:8]\n",
    "\n",
    "list_Table9b = [AlharbiVocAcc, AlharbiVocDon, ImamuraVoc,  ScharberVoc, OPEP_B3LYP_Voc, OPEP_sTDDFT_Voc, OPEP_sTDDFT_Expanded_Voc]\n",
    "Table9b = pd.DataFrame(list_Table9b, columns = ['r^2', '+/- r^2 SEM','MAE', '+/- MAE SEM','RMSE', '+/- RMSE SEM', 'MAPE', '+/- MAPE SEM'], index = ['AlharbiVocAcc', 'AlharbiVocDon', 'ImamuraVoc', 'ScharberVoc', 'OPEP/B3LYP Voc', 'OPEP/sTDDFT Voc', 'OPEP/sTDDFT Expanded Voc'])\n",
    "Table9b.sort_values(by=[\"RMSE\"], inplace=True, ascending = True)\n",
    "display(Table9b)"
   ]
  },
  {
   "cell_type": "markdown",
   "metadata": {},
   "source": [
    "# Analysis Figures"
   ]
  },
  {
   "cell_type": "code",
   "execution_count": null,
   "metadata": {},
   "outputs": [],
   "source": [
    "def make_barplots(param, ax, stat=None):\n",
    "    '''\n",
    "    Makes a barplot comparing OPEP, Scharber, Imamura, and Alharbi models\n",
    "\n",
    "    Parameters\n",
    "    ----------\n",
    "    param: str\n",
    "        options are 'FF', 'Jsc', 'Voc', or 'PCE'\n",
    "    ax: str\n",
    "        axes in figure to draw barplot on\n",
    "    stat: None or str\n",
    "        if None, MAE and RMSE will be plotted. If 'MAPE', mean absolute percent error (MAPE) will be plotted.\n",
    "    '''    \n",
    "    if param == 'FF':\n",
    "        MAE = [ScharberFF_highPCE[2], ImamuraFF_highPCE[2], AlharbiFFDon_highPCE[2], OPEP_B3LYP_FF_highPCE[2], OPEP_B3LYP_FF_highPCE[2] ]\n",
    "        SEM_MAE =[ScharberFF_highPCE[3], ImamuraFF_highPCE[3], AlharbiFFDon_highPCE[3], OPEP_B3LYP_FF_highPCE[3], OPEP_B3LYP_FF_highPCE[3] ]\n",
    "        RMSE = [ScharberFF_highPCE[4], ImamuraFF_highPCE[4], AlharbiFFDon_highPCE[4], OPEP_B3LYP_FF_highPCE[4], OPEP_B3LYP_FF_highPCE[4] ]\n",
    "        SEM_RMSE=[ScharberFF_highPCE[5], ImamuraFF_highPCE[5], AlharbiFFDon_highPCE[5], OPEP_B3LYP_FF_highPCE[5], OPEP_B3LYP_FF_highPCE[5] ]\n",
    "        MAPE = [ScharberFF_highPCE[6], ImamuraFF_highPCE[6], AlharbiFFDon_highPCE[6], OPEP_B3LYP_FF_highPCE[6], OPEP_B3LYP_FF_highPCE[6]]\n",
    "        SEM_MAPE =  [ScharberFF_highPCE[7], ImamuraFF_highPCE[7], AlharbiFFDon_highPCE[7], OPEP_B3LYP_FF_highPCE[7], OPEP_B3LYP_FF_highPCE[7]]\n",
    "        labels = ['Scharber', 'Imamura', 'Alharbi', 'OPEP / B3LYP', 'OPEP / sTD-DFT']\n",
    "        x = np.arange(5)\n",
    "        \n",
    "    elif param == 'Voc':\n",
    "        MAE = [ScharberVoc_highPCE[2], ImamuraVoc_highPCE[2], AlharbiVocDon_highPCE[2], OPEP_B3LYP_Voc_highPCE[2], OPEP_sTDDFT_Voc_highPCE[2] ]\n",
    "        SEM_MAE = [ScharberVoc_highPCE[3], ImamuraVoc_highPCE[3], AlharbiVocDon_highPCE[3], OPEP_B3LYP_Voc_highPCE[3], OPEP_sTDDFT_Voc_highPCE[3]]\n",
    "        RMSE = [ScharberVoc_highPCE[4], ImamuraVoc_highPCE[4], AlharbiVocDon_highPCE[4], OPEP_B3LYP_Voc_highPCE[4], OPEP_sTDDFT_Voc_highPCE[4]]\n",
    "        SEM_RMSE=[ScharberVoc_highPCE[5], ImamuraVoc_highPCE[5], AlharbiVocDon_highPCE[5], OPEP_B3LYP_Voc_highPCE[5], OPEP_sTDDFT_Voc_highPCE[5]]\n",
    "        MAPE = [ScharberVoc_highPCE[6], ImamuraVoc_highPCE[6], AlharbiVocDon_highPCE[6], OPEP_B3LYP_Voc_highPCE[6], OPEP_sTDDFT_Voc_highPCE[6]]\n",
    "        SEM_MAPE =  [ScharberVoc_highPCE[7], ImamuraVoc_highPCE[7], AlharbiVocDon_highPCE[7], OPEP_B3LYP_Voc_highPCE[7], OPEP_sTDDFT_Voc_highPCE[7]]\n",
    "        labels = ['Scharber', 'Imamura', 'Alharbi', 'OPEP / B3LYP', 'OPEP / sTD-DFT']\n",
    "        x = np.arange(5)\n",
    "    \n",
    "    elif param == 'Jsc':\n",
    "        MAE = [ScharberJscDon_highPCE[2], ImamuraJscDon_highPCE[2], OPEP_B3LYP_Jsc_highPCE[2], OPEP_sTDDFT_Jsc_highPCE[2] ]\n",
    "        SEM_MAE = [ScharberJscDon_highPCE[3], ImamuraJscDon_highPCE[3],  OPEP_B3LYP_Jsc_highPCE[3], OPEP_sTDDFT_Jsc_highPCE[3]]\n",
    "        RMSE = [ScharberJscDon_highPCE[4], ImamuraJscDon_highPCE[4],  OPEP_B3LYP_Jsc_highPCE[4], OPEP_sTDDFT_Jsc_highPCE[4]]\n",
    "        SEM_RMSE=[ScharberJscDon_highPCE[5], ImamuraJscDon_highPCE[5],  OPEP_B3LYP_Jsc_highPCE[5], OPEP_sTDDFT_Jsc_highPCE[5]]\n",
    "        MAPE = [ScharberJscDon_highPCE[6], ImamuraJscDon_highPCE[6], OPEP_B3LYP_Jsc_highPCE[6], OPEP_sTDDFT_Jsc_highPCE[6]]\n",
    "        SEM_MAPE =  [ScharberJscDon_highPCE[7], ImamuraJscDon_highPCE[7], OPEP_B3LYP_Jsc_highPCE[7], OPEP_sTDDFT_Jsc_highPCE[7]]\n",
    "        labels = ['Scharber', 'Imamura', 'OPEP / B3LYP', 'OPEP / sTD-DFT']\n",
    "        x = np.arange(4)\n",
    "        \n",
    "    elif param == 'PCE':\n",
    "        MAE = [SchPCEdon_highPCE[2], ImamuraPCEdon_highPCE[2], AlharbiPCEDon_highPCE[2],OPEP_B3LYP_PCE_pred_highPCE[2], OPEP_sTDDFT_PCE_pred_highPCE[2] ]\n",
    "        SEM_MAE = [SchPCEdon_highPCE[3], ImamuraPCEdon_highPCE[3], AlharbiPCEDon_highPCE[3], OPEP_B3LYP_PCE_pred_highPCE[3], OPEP_sTDDFT_PCE_pred_highPCE[3]]\n",
    "        RMSE = [SchPCEdon_highPCE[4], ImamuraPCEdon_highPCE[4], AlharbiPCEDon_highPCE[4], OPEP_B3LYP_PCE_pred_highPCE[4], OPEP_sTDDFT_PCE_pred_highPCE[4]]\n",
    "        SEM_RMSE=[SchPCEdon_highPCE[5], ImamuraPCEdon_highPCE[5], AlharbiPCEDon_highPCE[5], OPEP_B3LYP_PCE_pred_highPCE[5], OPEP_sTDDFT_PCE_pred_highPCE[5]]\n",
    "        MAPE = [SchPCEdon_highPCE[6], ImamuraPCEdon_highPCE[6], AlharbiPCEDon_highPCE[6],OPEP_B3LYP_PCE_pred_highPCE[6], OPEP_sTDDFT_PCE_pred_highPCE[6]]\n",
    "        SEM_MAPE =  [SchPCEdon_highPCE[7], ImamuraPCEdon_highPCE[7], AlharbiPCEDon_highPCE[7],OPEP_B3LYP_PCE_pred_highPCE[7], OPEP_sTDDFT_PCE_pred_highPCE[7]]\n",
    "        labels = ['Scharber', 'Imamura', 'Modified Alharbi','OPEP / B3LYP', 'OPEP / sTD-DFT']\n",
    "        x = np.arange(5)\n",
    "        \n",
    "    else:\n",
    "        return \"not a valid param\"\n",
    "    \n",
    "    width = 0.3\n",
    "    if stat =='MAPE':\n",
    "        ax.bar(x, MAPE, width, yerr=SEM_MAPE, label = \"MAPE\", color = 'firebrick')\n",
    "        ax.legend(['MAPE'], loc = 'upper right')\n",
    "    else:\n",
    "        ax.bar(x-width/2, MAE, width, yerr=SEM_MAE, label = \"MAE\", color = '#007f92')\n",
    "        ax.bar(x+width/2, RMSE, width, yerr=SEM_RMSE, label = \"RMSE\", color = '#a1196b')\n",
    "        ax.legend(['MAE', 'RMSE'], loc = 'upper right')\n",
    "\n",
    "    ax.set_xticks(x)\n",
    "    ax.set_xticklabels(labels, rotation = 45, ha = 'right')\n",
    "    ax.set_title(param, weight = 'bold')"
   ]
  },
  {
   "cell_type": "markdown",
   "metadata": {},
   "source": [
    "Creates a barplot of MAE and RMSE comparing the various models for FF, Voc, Jsc, and PCE for the models trained on high experimental PCE. Error bars are the standard error of the mean (SEM) of each model."
   ]
  },
  {
   "cell_type": "code",
   "execution_count": null,
   "metadata": {},
   "outputs": [],
   "source": [
    "fig, ((ax1, ax2), (ax3, ax4)) = plt.subplots(2,2, figsize = (12, 12))\n",
    "\n",
    "make_barplots(\"FF\", ax1)\n",
    "make_barplots(\"Voc\", ax2)\n",
    "make_barplots(\"Jsc\", ax3)\n",
    "make_barplots(\"PCE\", ax4)\n",
    "\n",
    "ax1.set_ylabel('%')\n",
    "ax2.set_ylabel('V')\n",
    "ax3.set_ylabel('$\\mathregular{mA/cm^{2}}$')\n",
    "ax4.set_ylabel('%')\n",
    "\n",
    "plt.tight_layout()\n",
    "plt.subplots_adjust(top = 0.93, wspace = 0.3, hspace = 0.6)\n",
    "plt.savefig(os.path.join(tgt_dir, 'barplots_highPCE.png'), dpi=300)\n",
    "plt.savefig(os.path.join(tgt_dir, 'barplots_highPCE.svg'), dpi=300)\n",
    "plt.savefig(os.path.join(tgt_dir, 'barplots_highPCE.pdf'), dpi=300)\n",
    "plt.show()"
   ]
  },
  {
   "cell_type": "markdown",
   "metadata": {},
   "source": [
    "Creates a barplot of MAPE comparing the various models for FF, Voc, Jsc, and PCE for the models trained on high experimental PCE. Error bars are the standard error of the mean (SEM) of each model."
   ]
  },
  {
   "cell_type": "code",
   "execution_count": null,
   "metadata": {},
   "outputs": [],
   "source": [
    "fig, ((ax1, ax2), (ax3, ax4)) = plt.subplots(2,2, figsize = (12, 12))\n",
    "\n",
    "make_barplots(\"FF\", ax1, stat = 'MAPE')\n",
    "make_barplots(\"Voc\", ax2, stat = 'MAPE')\n",
    "make_barplots(\"Jsc\", ax3, stat = 'MAPE')\n",
    "make_barplots(\"PCE\", ax4, stat = 'MAPE')\n",
    "\n",
    "ax1.set_ylabel('%')\n",
    "ax2.set_ylabel('%')\n",
    "ax3.set_ylabel('%')\n",
    "ax4.set_ylabel('%')\n",
    "\n",
    "plt.subplots_adjust(top = 0.93, wspace = 0.3, hspace = 0.4)\n",
    "plt.tight_layout()\n",
    "plt.savefig(os.path.join(tgt_dir, 'barplots_MAPE_highPCE.png'), dpi=300)\n",
    "plt.savefig(os.path.join(tgt_dir, 'barplots_MAPE_highPCE.svg'), dpi=300)\n",
    "plt.savefig(os.path.join(tgt_dir, 'barplots_MAPE_highPCE.pdf'), dpi=300)\n",
    "\n",
    "plt.show()"
   ]
  },
  {
   "cell_type": "code",
   "execution_count": null,
   "metadata": {},
   "outputs": [],
   "source": [
    "def make_scatter_plot(ax, feature, target, xlabel, ylabel, df=False, xyline=False, trendline=False):\n",
    "    '''\n",
    "    Creates a scatter plot comparing the predicted values to experimental values\n",
    "\n",
    "    Parameters\n",
    "    ---------\n",
    "    ax: str\n",
    "        axes on figure to plot it on\n",
    "    feature: str\n",
    "        Model name for predictions, as written in the dataframe. Example: 'ScharberPCEdon'\n",
    "    target: str\n",
    "        Values to compare to for y-axis, as written in the dataframe. Example: 'ExperimentalPCE'\n",
    "    xlabel: str\n",
    "        Name of model. Options are: 'Scharber PCE', 'Alharbi PCE', 'Imamura PCE', 'OPEP / B3LYP', 'OPEP / sTD-DFT'\n",
    "    ylabel: str\n",
    "        Label for y-axis\n",
    "    df: boolean\n",
    "        If True, values come from the df_highPCE dataframe\n",
    "        If False, feature and target are just the names of the lists conatining the values \n",
    "    xyline: boolean\n",
    "        If True, creates a 1:1 line with intercept 0\n",
    "    trendline: boolean\n",
    "        if True, draws a trendline\n",
    "    '''\n",
    "    \n",
    "    if df ==True:\n",
    "        x = df_highPCE[feature]\n",
    "        y = df_highPCE[target]\n",
    "    else:\n",
    "        x = feature\n",
    "        y = target\n",
    "    \n",
    "    ax.scatter(x, y, c='black')\n",
    "    ax.set_xlabel(xlabel) \n",
    "    ax.set_ylabel(ylabel)\n",
    "    \n",
    "    if xlabel == 'Scharber PCE':\n",
    "        r2 = SchPCEdon_highPCE[0]\n",
    "        r2_SEM = SchPCEdon_highPCE[1]\n",
    "        text = '$R^2$ = ' + str(r2) + ' ' + u\"\\u00B1\" + ' ' + str(r2_SEM)\n",
    "        ax.text(0.45, 0.85, text, fontsize = 'medium', transform=ax.transAxes)\n",
    "    elif xlabel == 'Alharbi PCE':\n",
    "        r2 = AlharbiPCEDon_highPCE[0]\n",
    "        r2_SEM = AlharbiPCEDon_highPCE[1]\n",
    "        text = '$R^2$ = ' + str(r2) + ' ' + u\"\\u00B1\" + ' ' + str(r2_SEM)\n",
    "        ax.text(0.05, 0.4, text, fontsize = 'medium', transform=ax.transAxes)\n",
    "    elif xlabel == 'Imamura PCE':\n",
    "        r2 = ImamuraPCEdon_highPCE[0]\n",
    "        r2_SEM = ImamuraPCEdon_highPCE[1]\n",
    "        text = '$R^2$ = ' + str(r2) + ' ' + u\"\\u00B1\" + ' ' + str(r2_SEM)\n",
    "        ax.text(0.45, 0.85, text, fontsize = 'medium', transform=ax.transAxes)\n",
    "    elif xlabel == 'OPEP / B3LYP':\n",
    "        r2 = OPEP_B3LYP_PCE_pred_highPCE[0]\n",
    "        r2_SEM = OPEP_B3LYP_PCE_pred_highPCE[1]\n",
    "        text = '$R^2$ = ' + str(r2) + ' ' + u\"\\u00B1\" + ' ' + str(r2_SEM)\n",
    "        ax.text(0.05, 0.85, text, fontsize = 'medium', transform=ax.transAxes)\n",
    "    elif xlabel == 'OPEP / sTD-DFT':\n",
    "        r2 = OPEP_sTDDFT_PCE_pred_highPCE[0]\n",
    "        r2_SEM = OPEP_sTDDFT_PCE_pred_highPCE[1]\n",
    "        text = '$R^2$ = ' + str(r2) + ' ' + u\"\\u00B1\" + ' ' + str(r2_SEM)\n",
    "        ax.text(0.05, 0.85, text, fontsize = 'medium', transform=ax.transAxes)\n",
    "    else:\n",
    "        return \"not valid model name\"\n",
    "    \n",
    "    if trendline == True:\n",
    "        # calc the trendline\n",
    "        z = np.polyfit(x, y, 1)\n",
    "        p = np.poly1d(z)\n",
    "        ax.plot(x,p(x),\"r--\")\n",
    "    \n",
    "    if xyline == True:\n",
    "        lims = [\n",
    "        np.min([ax.get_xlim(), ax.get_ylim()]),  # min of both axes\n",
    "        np.max([ax.get_xlim(), ax.get_ylim()])  # max of both axes\n",
    "        ]\n",
    "        ax.plot(lims, lims, 'c--', alpha=0.75, zorder=0)\n",
    "        ax.set_aspect('equal')\n",
    "        ax.set_xlim(lims)\n",
    "        ax.set_ylim(lims)"
   ]
  },
  {
   "cell_type": "markdown",
   "metadata": {},
   "source": [
    "## Correlation plots for prediction models vs experimental values"
   ]
  },
  {
   "cell_type": "code",
   "execution_count": null,
   "metadata": {},
   "outputs": [],
   "source": [
    "fig = plt.figure(figsize=(18, 8))\n",
    "\n",
    "ax1 = plt.subplot2grid(shape=(2,9), loc=(0,0), colspan=3)\n",
    "ax2 = plt.subplot2grid((2,9), (0,3), colspan=3)\n",
    "ax3 = plt.subplot2grid((2,9), (0,6), colspan=3)\n",
    "ax4 = plt.subplot2grid((2,9), (1,1), colspan=3)\n",
    "ax5 = plt.subplot2grid((2,9), (1,5), colspan=3)\n",
    "\n",
    "make_scatter_plot(ax1,'ScharberPCEdon', 'ExperimentalPCE', 'Scharber PCE', 'Experimental PCE',df = True, trendline=True)\n",
    "make_scatter_plot(ax2,'ImamuraPCEdon', 'ExperimentalPCE', 'Imamura PCE', 'Experimental PCE', df  = True, trendline=True)\n",
    "make_scatter_plot(ax3,'AlharbiPCEDon', 'ExperimentalPCE', 'Alharbi PCE', 'Experimental PCE', df  = True, trendline=True)\n",
    "make_scatter_plot(ax4,LassoPCE_highPCE[-1], df_highPCE['ExperimentalPCE'], 'OPEP / B3LYP', 'Experimental PCE', trendline=True)\n",
    "make_scatter_plot(ax5,LassoPCE_sTD_highPCE[-1], df_highPCE['ExperimentalPCE'], 'OPEP / sTD-DFT', 'Experimental PCE', trendline=True)\n",
    "\n",
    "plt.tight_layout()\n",
    "plt.subplots_adjust(top = 0.93, wspace = 1, hspace = 0.4)\n",
    "plt.savefig(os.path.join(tgt_dir, 'correlations_highPCE.svg'))\n",
    "plt.savefig(os.path.join(tgt_dir, 'correlations_highPCE.png'))\n",
    "plt.savefig(os.path.join(tgt_dir, 'correlations_highPCE.pdf'))\n",
    "plt.show()"
   ]
  },
  {
   "cell_type": "code",
   "execution_count": null,
   "metadata": {},
   "outputs": [],
   "source": [
    "# scatter plots showing how the models (trained on high PCE), perform on all ranges of PCE\n",
    "def CrossValModels(predicted, target):\n",
    "    # predicted is the list of predicted values. Ex: df['ScharberPCEtotal'] or PerrisPCEcalc\n",
    "    # target is the target experimental value. Ex: df['ExperimentalPCE']\n",
    "\n",
    "    X = predicted\n",
    "    y = target\n",
    "    score = cross_val_score(SMWrapper(sm.OLS), X, y, cv=5, scoring = 'r2')\n",
    "    SEM_r2 = round((score.std() / math.sqrt(5)) , 3)\n",
    "    #r2 = str(round(score.mean(), 3)) + ' +/- ' +  str(SEM_r2)\n",
    "    r2 = round(float(score.mean()), 3)\n",
    "    \n",
    "    score = cross_val_score(SMWrapper(sm.OLS), X, y, cv=5, scoring = 'neg_mean_absolute_error')\n",
    "    score = np.multiply(score, -1)\n",
    "    SEM_MAE = round((score.std() / math.sqrt(5)) , 2)\n",
    "    #MAE = str(round(score.mean(), 2)) + ' +/- ' +  str(SEM_MAE)\n",
    "    MAE = round(score.mean(), 2) \n",
    "    \n",
    "    score = cross_val_score(SMWrapper(sm.OLS), X, y, cv=5, scoring = 'neg_mean_squared_error')\n",
    "    score = np.sqrt(score * -1)\n",
    "    SEM_RMSE = round((score.std() / math.sqrt(5)) , 2)\n",
    "    #RMSE = str(round(score.mean(), 2)) + ' +/- ' +  str(SEM_RMSE)\n",
    "    RMSE = round(score.mean(), 2)\n",
    "    \n",
    "    MAPE_scorer = make_scorer(mean_absolute_percentage_error)\n",
    "    score = cross_val_score(SMWrapper(sm.OLS), X, y, cv=5, scoring = MAPE_scorer)\n",
    "    score = score * 100\n",
    "    SEM_MAPE = round((score.std() / math.sqrt(5)) , 2)\n",
    "    MAPE = round(score.mean(), 2)\n",
    "\n",
    "    return round(r2,2), SEM_r2, MAE, SEM_MAE, RMSE, SEM_RMSE, MAPE, SEM_MAPE\n",
    "\n",
    "fig, (ax1, ax2, ax3) = plt.subplots(1,3, figsize = (15, 5))\n",
    "\n",
    "sTDDFT_expanded_PCE = []\n",
    "sTDDFT_PCE = []\n",
    "B3LYP_PCE = []\n",
    "experimental_PCE = []\n",
    "\n",
    "for index, row in df.iterrows():\n",
    "    sTDDFT_expanded_eq = -33.079899985 + (4.2551151709174313 * row['sTDDFTdeltaHOMO']) + (1.3773119416209663 * row['sTDDFTsummedoscs'])+ (-0.45867638953985362 * row['donsTDDFTsummedoscs'])+ (0.17352602219989174 * row['donsTDDFTabsFOM'])+ ( 2.449065076623004 * row['sTDDFTDonElectrodonating'])+ (0.0009507945724509905 * row['sTDDFTdonfirstengtranswavenumber'])\n",
    "    sTDDFT_expanded_PCE.append(sTDDFT_expanded_eq)\n",
    "    \n",
    "    sTDDFT_eq = 99.8345577608 + (-7.5346772332273959 * row['sTDDFTdeltaLUMO']) + ( 5.4946743170844936 * row['sTDDFTdeltaHOMO']) + (-1.6636022959307213 * row['donsTDDFTdipolemoment']) + (1.5677462537650493 * row['sTDDFTsummedoscs']) + (0.097999426749019958 * row['donsTDDFTabsFOM']) + ( -0.0047307991771359317 * row['sTDDFTdonlowestengtranswavenumber'])\n",
    "    sTDDFT_PCE.append(sTDDFT_eq)\n",
    "    \n",
    "    B3LYP_eq = -136.521585951 + (6.4223592219051397 * row['AccTriplet']) + ( 0.91736200720853223 * row['DeltaDipMom']) + (-0.00046578842135047271 * row['AccEnergyTransitionWavenumber']) + (-0.0036095492932883208 * row['Polarizability']) + (8.3069007344054988 * row['DonElectrodonating']) + ( 0.0038950158798875456 * row['don_lowest_transition_wavenumber'])\n",
    "    B3LYP_PCE.append(B3LYP_eq)\n",
    "    \n",
    "    experimental_PCE.append(row['ExperimentalPCE'])\n",
    "    \n",
    "crossed_B3LYP = CrossValModels(B3LYP_PCE, experimental_PCE)\n",
    "print(crossed_B3LYP)\n",
    "crossed_sTDDFT = CrossValModels(sTDDFT_PCE, experimental_PCE)\n",
    "print(crossed_sTDDFT)\n",
    "crossed_sTDDFTexpanded = CrossValModels(sTDDFT_expanded_PCE, experimental_PCE)\n",
    "print(crossed_sTDDFTexpanded)\n",
    "    \n",
    "ax1.scatter(B3LYP_PCE, experimental_PCE, c='black')\n",
    "ax1.set_xlabel('OPEP/B3LYP PCE') \n",
    "ax1.set_ylabel('Experimental PCE')\n",
    "\n",
    "# calc the trendline\n",
    "z = np.polyfit(B3LYP_PCE, experimental_PCE, 1)\n",
    "p = np.poly1d(z)\n",
    "ax1.plot(B3LYP_PCE,p(B3LYP_PCE),\"r--\")\n",
    "\n",
    "r2 = crossed_B3LYP[0]\n",
    "r2_SEM = round(crossed_B3LYP[1], 2)\n",
    "ax1textr2 = '$R^2$ = ' + str(r2) + ' ' + u\"\\u00B1\" + ' ' + str(r2_SEM)\n",
    "ax1.text(0.05, 0.9, ax1textr2, fontsize = 15, transform=ax1.transAxes)\n",
    "rmse = round(crossed_B3LYP[4], 2)\n",
    "rmse_SEM = round(crossed_B3LYP[5], 2)\n",
    "ax1textrmse = 'RMSE = ' + str(rmse) + ' ' + u\"\\u00B1\" + ' ' + str(rmse_SEM)\n",
    "ax1.text(0.05, 0.8, ax1textrmse, fontsize = 15, transform=ax1.transAxes)\n",
    "\n",
    "ax2.scatter(sTDDFT_PCE, experimental_PCE, c='black')\n",
    "ax2.set_xlabel('OPEP/sTD-DFT PCE') \n",
    "ax2.set_ylabel('Experimental PCE')\n",
    "\n",
    "# calc the trendline\n",
    "z = np.polyfit(sTDDFT_PCE, experimental_PCE, 1)\n",
    "p = np.poly1d(z)\n",
    "ax2.plot(sTDDFT_PCE,p(sTDDFT_PCE),\"r--\")\n",
    "\n",
    "r2 = crossed_sTDDFT[0]\n",
    "r2_SEM = round(crossed_sTDDFT[1], 2)\n",
    "ax2textr2 = '$R^2$ = ' + str(r2) + ' ' + u\"\\u00B1\" + ' ' + str(r2_SEM)\n",
    "ax2.text(0.05, 0.9, ax2textr2, fontsize = 15, transform=ax2.transAxes)\n",
    "rmse = round(crossed_sTDDFT[4], 2)\n",
    "rmse_SEM = round(crossed_sTDDFT[5], 2)\n",
    "ax2textrmse = 'RMSE = ' + str(rmse) + ' ' + u\"\\u00B1\" + ' ' + str(rmse_SEM)\n",
    "ax2.text(0.05, 0.8, ax2textrmse, fontsize = 15, transform=ax2.transAxes)\n",
    "\n",
    "\n",
    "ax3.scatter(sTDDFT_expanded_PCE, experimental_PCE, c='black')\n",
    "ax3.set_xlabel('OPEP/sTD-DFT Expanded') \n",
    "ax3.set_ylabel('Experimental PCE')\n",
    "\n",
    "# calc the trendline\n",
    "z = np.polyfit(sTDDFT_expanded_PCE, experimental_PCE, 1)\n",
    "p = np.poly1d(z)\n",
    "ax3.plot(sTDDFT_expanded_PCE,p(sTDDFT_expanded_PCE),\"r--\")\n",
    "\n",
    "r2 = crossed_sTDDFTexpanded[0]\n",
    "r2_SEM = round(crossed_sTDDFTexpanded[1], 2)\n",
    "ax2textr2 = '$R^2$ = ' + str(r2) + ' ' + u\"\\u00B1\" + ' ' + str(r2_SEM)\n",
    "ax3.text(0.05, 0.9, ax2textr2, fontsize = 15, transform=ax3.transAxes)\n",
    "rmse = round(crossed_sTDDFTexpanded[4], 2)\n",
    "rmse_SEM = round(crossed_sTDDFTexpanded[5], 2)\n",
    "ax2textrmse = 'RMSE = ' + str(rmse) + ' ' + u\"\\u00B1\" + ' ' + str(rmse_SEM)\n",
    "ax3.text(0.05, 0.8, ax2textrmse, fontsize = 15, transform=ax3.transAxes)\n",
    "\n",
    "\n",
    "plt.tight_layout()\n",
    "plt.savefig(os.path.join(tgt_dir, 'correlation_highPCEmodels_vs_allPCE.png'))\n",
    "plt.savefig(os.path.join(tgt_dir, 'correlation_highPCEmodels_vs_allPCE.pdf'), dpi=300)\n",
    "\n",
    "plt.show()"
   ]
  },
  {
   "cell_type": "markdown",
   "metadata": {},
   "source": [
    "## T-Test comparing the various models"
   ]
  },
  {
   "cell_type": "markdown",
   "metadata": {},
   "source": [
    "Create arrays of PCE of each model trained on high PCE on high PCE dataset"
   ]
  },
  {
   "cell_type": "code",
   "execution_count": null,
   "metadata": {
    "jupyter": {
     "outputs_hidden": true
    }
   },
   "outputs": [],
   "source": [
    "sTDDFT_expanded_PCE = []\n",
    "sTDDFT_PCE = []\n",
    "B3LYP_PCE = []\n",
    "\n",
    "for index, row in df_highPCE.iterrows():\n",
    "    sTDDFT_expanded_eq = -33.079899985 + (4.2551151709174313 * row['sTDDFTdeltaHOMO']) + (1.3773119416209663 * row['sTDDFTsummedoscs'])+ (-0.45867638953985362 * row['donsTDDFTsummedoscs'])+ (0.17352602219989174 * row['donsTDDFTabsFOM'])+ ( 2.449065076623004 * row['sTDDFTDonElectrodonating'])+ (0.0009507945724509905 * row['sTDDFTdonfirstengtranswavenumber'])\n",
    "    sTDDFT_expanded_PCE.append(sTDDFT_expanded_eq)\n",
    "    \n",
    "    sTDDFT_eq = 99.8345577608 + (-7.5346772332273959 * row['sTDDFTdeltaLUMO']) + ( 5.4946743170844936 * row['sTDDFTdeltaHOMO']) + (-1.6636022959307213 * row['donsTDDFTdipolemoment']) + (1.5677462537650493 * row['sTDDFTsummedoscs']) + (0.097999426749019958 * row['donsTDDFTabsFOM']) + ( -0.0047307991771359317 * row['sTDDFTdonlowestengtranswavenumber'])\n",
    "    sTDDFT_PCE.append(sTDDFT_eq)\n",
    "    \n",
    "    B3LYP_eq = -136.521585951 + (6.4223592219051397 * row['AccTriplet']) + ( 0.91736200720853223 * row['DeltaDipMom']) + (-0.00046578842135047271 * row['AccEnergyTransitionWavenumber']) + (-0.0036095492932883208 * row['Polarizability']) + (8.3069007344054988 * row['DonElectrodonating']) + ( 0.0038950158798875456 * row['don_lowest_transition_wavenumber'])\n",
    "    B3LYP_PCE.append(B3LYP_eq)"
   ]
  },
  {
   "cell_type": "code",
   "execution_count": null,
   "metadata": {},
   "outputs": [],
   "source": [
    "stats.ttest_ind(B3LYP_PCE, sTDDFT_PCE)"
   ]
  },
  {
   "cell_type": "code",
   "execution_count": null,
   "metadata": {},
   "outputs": [],
   "source": [
    "stats.ttest_ind(sTDDFT_PCE,sTDDFT_expanded_PCE)"
   ]
  },
  {
   "cell_type": "markdown",
   "metadata": {},
   "source": [
    "## Plots to compare models"
   ]
  },
  {
   "cell_type": "code",
   "execution_count": null,
   "metadata": {},
   "outputs": [],
   "source": [
    "def AbsoluteError(predicted, experimental, percent_error = False):\n",
    "    # predicted is the predicted values. Ex: df['ScharberFF']\n",
    "    # experimental is the target experimental values. Ex: df['ExperimentalFF']\n",
    "    # returns are list of errors\n",
    "    \n",
    "    absolute_errors = []\n",
    "    for x in range(len(experimental)):\n",
    "        if percent_error == True:\n",
    "            absolute_errors.append(((predicted[x] - experimental[x])/experimental[x])*100)\n",
    "        else:\n",
    "            absolute_errors.append(predicted[x] - experimental[x])\n",
    "    return absolute_errors\n",
    "\n",
    "def make_violinplot(ax, error_list, label_list, title, matchcolor=False):\n",
    "    # ax is which axes on the figure you want. Ex: ax1\n",
    "    # error_list is the list of deviations Ex. FF_err_list\n",
    "    # label_list is the list of labels for x-axis. Make sure it is same order as error_list\n",
    "    # y_min and y_max are the limits for the y-axis\n",
    "    # title is a string for subplot titles. Ex: 'FF'\n",
    "    #\n",
    "    # returns a plt object\n",
    "\n",
    "#    ax.grid(b = True, axis = 'y', ls = '--')\n",
    "    ax.axhline(y = 0, color = 'dimgrey', linestyle = ':')\n",
    "    \n",
    "    if matchcolor==True:\n",
    "        if title == 'Jsc':\n",
    "            Jsc_palette = [sns.husl_palette(10)[0], sns.husl_palette(10)[2], sns.husl_palette(10)[6], sns.husl_palette(10)[8]]\n",
    "            sns.violinplot(data = error_list, showextrema = True, showmedians = True, palette = Jsc_palette, ax = ax)\n",
    "        else:\n",
    "            sns.violinplot(data = error_list, showextrema = True, showmedians = True, palette = 'husl', ax = ax)\n",
    "    else:\n",
    "        sns.violinplot(data = error_list, showextrema = True, showmedians = True, palette = 'husl', ax = ax)\n",
    "    ax.set_xticklabels(label_list, rotation = 45, ha = 'right')\n",
    "    ax.set_title(title, weight = 'bold')\n",
    "    if title == 'FF':\n",
    "        ax.set_ylabel('Deviation (%)')\n",
    "    elif title == 'Voc':\n",
    "        ax.set_ylabel('Deviation (V)')\n",
    "    elif title == 'Jsc':\n",
    "        ax.set_ylabel('Deviation ($\\mathregular{mA/cm^{2}}$)')\n",
    "    elif title == 'PCE':\n",
    "        ax.set_ylabel('Deviation (%)')\n",
    "    \n",
    "    return plt\n"
   ]
  },
  {
   "cell_type": "markdown",
   "metadata": {},
   "source": [
    "### Violin plot of FF, Voc, Jsc, and PCE with deviations (predicted - experimental) for all PCEs"
   ]
  },
  {
   "cell_type": "code",
   "execution_count": null,
   "metadata": {},
   "outputs": [],
   "source": [
    "ScharberFFerr = AbsoluteError(df['ScharberFF'], df['ExperimentalFF'])\n",
    "AlharbiFFDonerr = AbsoluteError(df['AlharbiFFDon'], df['ExperimentalFF'])\n",
    "AlharbiFFAccerr = AbsoluteError(df['AlharbiFFAcc'], df['ExperimentalFF'])\n",
    "ImamuraFFerr = AbsoluteError(df['ImamuraFF'], df['ExperimentalFF'])\n",
    "OPEP_B3LYP_FF_err = AbsoluteError(LassoFF[-1], df['ExperimentalFF'])\n",
    "OPEP_sTDDFT_FF_err = AbsoluteError(LassoFF_sTD[-1], df['ExperimentalFF'])\n",
    "OPEP_sTDDFT_Expanded_FF_err = AbsoluteError(LassoFF_sTD_all[-1], df_sTD['ExperimentalFF'])\n",
    "\n",
    "FF_err_list = [ScharberFFerr, ImamuraFFerr, AlharbiFFDonerr, AlharbiFFAccerr,  OPEP_B3LYP_FF_err, OPEP_sTDDFT_FF_err, OPEP_sTDDFT_Expanded_FF_err]\n",
    "FF_list = ['Scharber','Imamura', 'Alharbi (Don)', 'Alharbi (Acc)', 'OPEP / B3LYP', 'OPEP / sTD-DFT', 'OPEP / sTD-DFT Expanded']\n",
    "\n",
    "\n",
    "AlharbiVocAccErr = AbsoluteError(df['AlharbiVocAcc'], df['ExperimentalVoc'])\n",
    "AlharbiVocDonErr = AbsoluteError(df['AlharbiVocDon'], df['ExperimentalVoc'])\n",
    "ImamuraVocErr = AbsoluteError(df['ImamuraVoc'], df['ExperimentalVoc'])\n",
    "ScharberVocErr = AbsoluteError(df['ScharberVoc'], df['ExperimentalVoc'])\n",
    "OPEP_B3LYP_Voc_err = AbsoluteError(LassoVoc[-1], df['ExperimentalVoc'])\n",
    "OPEP_sTDDFT_Voc_err = AbsoluteError(LassoVoc_sTD[-1], df['ExperimentalVoc'])\n",
    "OPEP_sTDDFT_Expanded_Voc_err = AbsoluteError(LassoVoc_sTD_all[-1], df_sTD['ExperimentalVoc'])\n",
    "\n",
    "Voc_err_list = [ScharberVocErr,ImamuraVocErr, AlharbiVocDonErr, AlharbiVocAccErr, OPEP_B3LYP_Voc_err, OPEP_sTDDFT_Voc_err, OPEP_sTDDFT_Expanded_Voc_err]\n",
    "Voc_list = ['Scharber','Imamura','Alharbi (Don)', 'Alharbi (Acc)', 'OPEP / B3LYP', 'OPEP / sTD-DFT', 'OPEP / sTD-DFT Expanded']\n",
    "\n",
    "\n",
    "ScharberJscAccErr = AbsoluteError(df['ScharberJscAcc'], df['ExperimentalJsc'])\n",
    "ImamuraTotalJscErr = AbsoluteError(df['ImamuraTotalJsc'], df['ExperimentalJsc'])\n",
    "ImamuraJscAccErr = AbsoluteError(df['ImamuraJscAcc'], df['ExperimentalJsc'])\n",
    "ImamuraJscDonErr = AbsoluteError(df['ImamuraJscDon'], df['ExperimentalJsc'])\n",
    "ScharberTotalJscErr = AbsoluteError(df['ScharberTotalJsc'], df['ExperimentalJsc'])\n",
    "ScharberJscDonErr = AbsoluteError(df['ScharberJscDon'], df['ExperimentalJsc'])\n",
    "ScharberJsclowestoptbgErr = AbsoluteError(df['ScharberJsclowestoptbg'], df['ExperimentalJsc'])\n",
    "OPEP_B3LYP_Jsc_err = AbsoluteError(LassoJsc[-1], df['ExperimentalJsc'])\n",
    "OPEP_sTDDFT_Jsc_err = AbsoluteError(LassoJsc_sTD[-1], df['ExperimentalJsc'])\n",
    "OPEP_sTDDFT_Expanded_Jsc_err = AbsoluteError(LassoJsc_sTD_all[-1], df_sTD['ExperimentalJsc'])\n",
    "\n",
    "Jsc_err_list = [ScharberJscDonErr,ScharberJscAccErr, ScharberTotalJscErr, ScharberJsclowestoptbgErr, ImamuraJscDonErr,ImamuraJscAccErr, ImamuraTotalJscErr, OPEP_B3LYP_Jsc_err, OPEP_sTDDFT_Jsc_err, OPEP_sTDDFT_Expanded_Jsc_err]\n",
    "Jsc_list = ['Scharber (Don)', 'Scharber (Acc)', 'Scharber (Total)', 'Scharber (Low Eg)', 'Imamura (Don)','Imamura (Acc)','Imamura (Total)', 'OPEP / B3LYP', 'OPEP / sTD-DFT', 'OPEP / sTD-DFT Expanded']\n",
    "\n",
    "\n",
    "SchPCEdonErr = AbsoluteError(df['ScharberPCEdon'], df['ExperimentalPCE'])\n",
    "SchPCEaccErr = AbsoluteError(df['ScharberPCEacc'], df['ExperimentalPCE'])\n",
    "SchPCEtotalErr = AbsoluteError(df['ScharberPCEtotal'], df['ExperimentalPCE'])\n",
    "SchPCElowbgErr = AbsoluteError(df['ScharberPCElowestoptbg'], df['ExperimentalPCE'])\n",
    "ImamuraPCEdonErr = AbsoluteError(df['ImamuraPCEdon'], df['ExperimentalPCE'])\n",
    "ImamuraPCEaccErr = AbsoluteError(df['ImamuraPCEacc'], df['ExperimentalPCE'])\n",
    "ImamuraPCEtotErr = AbsoluteError(df['ImamuraPCEtotal'], df['ExperimentalPCE'])\n",
    "AlharbiPCEDonErr = AbsoluteError(df['AlharbiPCEDon'], df['ExperimentalPCE'])\n",
    "AlharbiPCEAccErr = AbsoluteError(df['AlharbiPCEAcc'], df['ExperimentalPCE'])\n",
    "OPEP_B3LYP_PCE_pred_err = AbsoluteError(LassoPCE[-1], df['ExperimentalPCE'])\n",
    "OPEP_sTDDFT_PCE_pred_err = AbsoluteError(LassoPCE_sTD[-1], df['ExperimentalPCE'])\n",
    "OPEP_sTDDFT_Expanded_PCE_pred_err = AbsoluteError(LassoPCE_sTD_all[-1], df_sTD['ExperimentalPCE'])\n",
    "\n",
    "OPEP_B3LYP_PCE_calc_err = AbsoluteError(OPEP_B3LYP_PCE_Calc_values, df['ExperimentalPCE'])\n",
    "OPEP_B3LYP_PCE_FF70_err = AbsoluteError(OPEP_B3LYP_PCE_FF70_values, df['ExperimentalPCE'])\n",
    "OPEP_sTDDFT_PCE_calc_err = AbsoluteError(OPEP_sTDDFT_PCE_calc_values, df['ExperimentalPCE'])\n",
    "OPEP_sTDDFT_PCE_FF70_err = AbsoluteError(OPEP_sTDDFT_PCE_FF70_values, df['ExperimentalPCE'])\n",
    "OPEP_sTDDFT_Expanded_PCE_calc_err = AbsoluteError(OPEP_sTDDFT_PCE_calc_expanded_values, df_sTD['ExperimentalPCE'])\n",
    "OPEP_sTDDFT_Expanded_PCE_FF70_err = AbsoluteError(OPEP_sTDDFT_PCE_FF70_expanded_values, df_sTD['ExperimentalPCE'])\n",
    "\n",
    "PCE_err_list = [\n",
    "    SchPCEdonErr, SchPCEaccErr, SchPCEtotalErr, SchPCElowbgErr, ImamuraPCEdonErr, ImamuraPCEaccErr, ImamuraPCEtotErr, AlharbiPCEDonErr, AlharbiPCEAccErr,\n",
    "    OPEP_B3LYP_PCE_pred_err, OPEP_sTDDFT_PCE_pred_err, OPEP_sTDDFT_Expanded_PCE_pred_err,\n",
    "    OPEP_B3LYP_PCE_calc_err, OPEP_sTDDFT_PCE_calc_err, OPEP_sTDDFT_Expanded_PCE_calc_err\n",
    "]\n",
    "PCE_list = [\n",
    "    'Scharber (Don)', 'Scharber (Acc)', 'Scharber (total)', 'Scharber (lowest Eg)', 'Imamura (Don)', 'Imamura (Acc)', 'Imamura (total)', 'modified Alharbi (Don)', 'modified Alharbi (Acc)',\n",
    "    'OPEP / B3LYP', 'OPEP / sTD-DFT', 'OPEP / sTD-DFT Expanded', \n",
    "    'OPEP / B3LYP (calc.)', 'OPEP / sTD-DFT (calc.)', 'OPEP / sTD-DFT Expanded (calc.)'\n",
    "]"
   ]
  },
  {
   "cell_type": "markdown",
   "metadata": {},
   "source": [
    "### Violin plots of FF, Voc, Jsc, and PCE with deviations for any experimental PCE"
   ]
  },
  {
   "cell_type": "code",
   "execution_count": null,
   "metadata": {},
   "outputs": [],
   "source": [
    "fig, ((ax1, ax2), (ax3, ax4)) = plt.subplots(2,2, figsize = (22, 14))\n",
    "\n",
    "make_violinplot(ax1, FF_err_list, FF_list, 'FF' )\n",
    "make_violinplot(ax2, Voc_err_list, Voc_list, 'Voc')\n",
    "make_violinplot(ax3, Jsc_err_list, Jsc_list, 'Jsc')\n",
    "make_violinplot(ax4, PCE_err_list, PCE_list,'PCE')\n",
    "\n",
    "#plt.subplots_adjust(top = 0.95, bottom = 0.05, wspace = 0.2, hspace = 0.85)\n",
    "plt.tight_layout()\n",
    "plt.savefig(os.path.join(tgt_dir, 'violinplots_all_models.pdf'), dpi=300)\n",
    "plt.savefig(os.path.join(tgt_dir, 'violinplots_all_models.png'), dpi=300)\n",
    "plt.show()"
   ]
  },
  {
   "cell_type": "markdown",
   "metadata": {},
   "source": [
    "### Violin plots of FF, Voc, Jsc, and PCE with deviations for experimetnal PCEs > 9%"
   ]
  },
  {
   "cell_type": "code",
   "execution_count": null,
   "metadata": {},
   "outputs": [],
   "source": [
    "ScharberFFerr = AbsoluteError(df_highPCE['ScharberFF'], df_highPCE['ExperimentalFF'])\n",
    "AlharbiFFDonerr = AbsoluteError(df_highPCE['AlharbiFFDon'], df_highPCE['ExperimentalFF'])\n",
    "ImamuraFFerr = AbsoluteError(df_highPCE['ImamuraFF'], df_highPCE['ExperimentalFF'])\n",
    "OPEP_B3LYP_FF_err = AbsoluteError(LassoFF_highPCE[-1], df_highPCE['ExperimentalFF'])\n",
    "OPEP_sTDDFT_FF_err = AbsoluteError(LassoFF_sTD_highPCE[-1], df_highPCE['ExperimentalFF'])\n",
    "\n",
    "FF_err_list_highPCE = [ScharberFFerr,ImamuraFFerr, AlharbiFFDonerr, OPEP_B3LYP_FF_err, OPEP_sTDDFT_FF_err]\n",
    "FF_list = ['Scharber', 'Imamura', 'Alharbi','OPEP / B3LYP', 'OPEP / sTD-DFT']\n",
    "\n",
    "\n",
    "AlharbiVocDonErr = AbsoluteError(df_highPCE['AlharbiVocDon'], df_highPCE['ExperimentalVoc'])\n",
    "ImamuraVocErr = AbsoluteError(df_highPCE['ImamuraVoc'], df_highPCE['ExperimentalVoc'])\n",
    "ScharberVocErr = AbsoluteError(df_highPCE['ScharberVoc'], df_highPCE['ExperimentalVoc'])\n",
    "OPEP_B3LYP_Voc_err = AbsoluteError(LassoVoc_highPCE[-1], df_highPCE['ExperimentalVoc'])\n",
    "OPEP_sTDDFT_Voc_err = AbsoluteError(LassoVoc_sTD_highPCE[-1], df_highPCE['ExperimentalVoc'])\n",
    "\n",
    "Voc_err_list_highPCE = [ScharberVocErr, ImamuraVocErr, AlharbiVocDonErr, OPEP_B3LYP_Voc_err, OPEP_sTDDFT_Voc_err]\n",
    "Voc_list = ['Scharber', 'Imamura', 'Alharbi', 'OPEP / B3LYP', 'OPEP / sTD-DFT']\n",
    "\n",
    "\n",
    "ImamuraJscDonErr = AbsoluteError(df_highPCE['ImamuraJscDon'], df_highPCE['ExperimentalJsc'])\n",
    "ScharberJscDonErr = AbsoluteError(df_highPCE['ScharberJscDon'], df_highPCE['ExperimentalJsc'])\n",
    "OPEP_B3LYP_Jsc_err = AbsoluteError(LassoJsc_highPCE[-1], df_highPCE['ExperimentalJsc'])\n",
    "OPEP_sTDDFT_Jsc_err = AbsoluteError(LassoJsc_sTD_highPCE[-1], df_highPCE['ExperimentalJsc'])\n",
    "\n",
    "Jsc_err_list_highPCE = [ScharberJscDonErr, ImamuraJscDonErr, OPEP_B3LYP_Jsc_err, OPEP_sTDDFT_Jsc_err]\n",
    "Jsc_list = ['Scharber', 'Imamura', 'OPEP / B3LYP', 'OPEP / sTD-DFT']\n",
    "\n",
    "\n",
    "SchPCEdonErr = AbsoluteError(df_highPCE['ScharberPCEdon'], df_highPCE['ExperimentalPCE']) \n",
    "ImamuraPCEdonErr = AbsoluteError(df_highPCE['ImamuraPCEdon'], df_highPCE['ExperimentalPCE'])\n",
    "AlharbiPCEDonErr = AbsoluteError(df_highPCE['AlharbiPCEDon'], df_highPCE['ExperimentalPCE'])\n",
    "OPEP_B3LYP_PCE_err = AbsoluteError(LassoPCE_highPCE[-1], df_highPCE['ExperimentalPCE'])\n",
    "OPEP_sTDDFT_PCE_err = AbsoluteError(LassoPCE_sTD_highPCE[-1], df_highPCE['ExperimentalPCE'])\n",
    "OPEP_sTDDFT_Expanded_PCE_err = AbsoluteError(LassoPCE_sTD_highPCE_all[-1], df_sTD_highPCE['ExperimentalPCE'])\n",
    "\n",
    "PCE_err_list_highPCE = [SchPCEdonErr, ImamuraPCEdonErr,AlharbiPCEDonErr, OPEP_B3LYP_PCE_err, OPEP_sTDDFT_PCE_err]\n",
    "PCE_list = ['Scharber', 'Imamura', 'Modified Alharbi', 'OPEP / B3LYP' , 'OPEP / sTD-DFT']"
   ]
  },
  {
   "cell_type": "code",
   "execution_count": null,
   "metadata": {},
   "outputs": [],
   "source": [
    "fig, ((ax1, ax2), (ax3, ax4)) = plt.subplots(2,2, figsize = (12, 12))\n",
    "\n",
    "make_violinplot(ax1,FF_err_list_highPCE, FF_list, 'FF' )\n",
    "make_violinplot(ax2, Voc_err_list_highPCE, Voc_list, 'Voc')\n",
    "make_violinplot(ax3, Jsc_err_list_highPCE, Jsc_list, 'Jsc', matchcolor = True)\n",
    "make_violinplot(ax4, PCE_err_list_highPCE, PCE_list,'PCE')\n",
    "\n",
    "plt.tight_layout()\n",
    "plt.subplots_adjust(top = 0.93, wspace = 0.4, hspace = 0.7)\n",
    "\n",
    "plt.savefig(os.path.join(tgt_dir, 'violinplots_highPCE.png'), dpi=300)\n",
    "plt.savefig(os.path.join(tgt_dir, 'violinplots_highPCE.pdf'), dpi=300)\n",
    "plt.show()"
   ]
  },
  {
   "cell_type": "markdown",
   "metadata": {},
   "source": [
    "## Correlation plots between DFT and sTD-DFT"
   ]
  },
  {
   "cell_type": "code",
   "execution_count": null,
   "metadata": {},
   "outputs": [],
   "source": [
    "def scatterplot_bigfig(feature, target, df, xlabel, ylabel, xyline=False, trendline=False, ax=False):\n",
    "    x = df[feature]\n",
    "    y = df[target]\n",
    "    \n",
    "    if ax == False:\n",
    "        fig, ax = plt.subplots()\n",
    "    ax.scatter(x, y, c='black') \n",
    "    ax.set_xlabel(xlabel) \n",
    "    ax.set_ylabel(ylabel)\n",
    "    \n",
    "    if trendline == True:\n",
    "        # calc the trendline\n",
    "        z = np.polyfit(x, y, 1)\n",
    "        p = np.poly1d(z)\n",
    "        pylab.plot(x,p(x),\"r--\")\n",
    "\n",
    "    if xyline == True:\n",
    "        lims = [\n",
    "        np.min([ax.get_xlim(), ax.get_ylim()]),  # min of both axes\n",
    "        np.max([ax.get_xlim(), ax.get_ylim()]),  # max of both axes\n",
    "        ]\n",
    "\n",
    "        ax.plot(lims, lims, 'c--', alpha=0.75, zorder=0)\n",
    "        ax.set_aspect('equal')\n",
    "        ax.set_xlim(lims)\n",
    "        ax.set_ylim(lims)\n",
    "    \n",
    "    return plt"
   ]
  },
  {
   "cell_type": "code",
   "execution_count": null,
   "metadata": {},
   "outputs": [],
   "source": [
    "fig, ((ax1, ax2, ax3), (ax4, ax5, ax6)) = plt.subplots(2, 3, figsize = (18, 12))\n",
    "\n",
    "scatterplot_bigfig('AccHOMO', 'sTDDFTHOMO', df, 'B3LYP HOMO (eV)', 'sTD-CAM-B3LYP HOMO (eV)', xyline=True, ax = ax1)\n",
    "scatterplot_bigfig('acc_lowest_transition_wavenumber', 'sTDDFTacclowestengtranswavenumber', df,'TD-B3LYP Excitation Energy ($\\mathregular{cm^{-1}}$)', 'sTD-CAM-B3LYP Excitation Energy ($\\mathregular{cm^{-1}}$)', xyline=True, ax = ax2)\n",
    "scatterplot_bigfig('AccDeltaHOMO', 'sTDDFTdeltaHOMO', df,'B3LYP \\u0394HOMO (eV)', 'sTD-CAM-B3LYP \\u0394HOMO (eV)', xyline=True, ax=ax3)\n",
    "scatterplot_bigfig('AccDeltaLUMO', 'sTDDFTdeltaLUMO', df,'B3LYP \\u0394LUMO (eV)', 'sTD-CAM-B3LYP \\u0394LUMO (eV)', xyline=True, ax=ax4)\n",
    "scatterplot_bigfig('GSDipMom', 'sTDDFTdipolemoment', df,'B3LYP Dipole Moment (Debye)', 'sTD-CAM-B3LYP Dipole Moment (Debye)', xyline=True, ax=ax5)\n",
    "scatterplot_bigfig('acc_highest_oscs_under_ten', 'sTDDFTacchighestoscsunderten', df,'TD-B3LYP Oscillator Strength', 'sTD-CAM-B3LYP Oscillator Strength', xyline=True, ax=ax6)\n",
    "\n",
    "plt.subplots_adjust(top = 0.93, wspace = 0.3, hspace = 0.4)\n",
    "plt.tight_layout()\n",
    "plt.savefig(os.path.join(tgt_dir, 'DFT_vs_sTDDFT.pdf'))\n",
    "plt.savefig(os.path.join(tgt_dir, 'DFT_vs_sTDDFT.png'), dpi=300)\n",
    "plt.show()"
   ]
  },
  {
   "cell_type": "code",
   "execution_count": null,
   "metadata": {},
   "outputs": [],
   "source": []
  }
 ],
 "metadata": {
  "kernelspec": {
   "display_name": "opep-conda",
   "language": "python",
   "name": "opep-conda"
  },
  "language_info": {
   "codemirror_mode": {
    "name": "ipython",
    "version": 3
   },
   "file_extension": ".py",
   "mimetype": "text/x-python",
   "name": "python",
   "nbconvert_exporter": "python",
   "pygments_lexer": "ipython3",
   "version": "3.11.3"
  }
 },
 "nbformat": 4,
 "nbformat_minor": 4
}
